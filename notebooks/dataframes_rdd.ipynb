{
 "cells": [
  {
   "cell_type": "markdown",
   "id": "f003706c-eea0-4ac3-b0f9-1c773d8d982c",
   "metadata": {},
   "source": [
    "# Formação Spark com Pyspark: o Curso Completo\n",
    "\n",
    "Curso da Udemy."
   ]
  },
  {
   "cell_type": "code",
   "execution_count": 1,
   "id": "20f90f5c-f5b6-477d-a7cd-9fd168141f1f",
   "metadata": {},
   "outputs": [],
   "source": [
    "from pyspark import SparkContext, SparkConf\n",
    "from pyspark.sql import SparkSession\n",
    "import os\n",
    "import sys\n",
    "\n",
    "os.environ['JAVA_HOME'] = \"D:\\Java\\jre1.8.0_361\"\n",
    "os.environ['PYSPARK_PYTHON'] = sys.executable"
   ]
  },
  {
   "cell_type": "markdown",
   "id": "cd520227-ecf8-42a0-9f3f-6b7e92b7320a",
   "metadata": {},
   "source": [
    "## DataFrames e RDDs\n",
    "\n",
    "* Transformações: criam um novo RDD / Dataframe cujas alterações não são executadas até que haja uma ação\n",
    "* Ações: calcula todas as transformações de uma só vez\n",
    "\n",
    "* RDD - Resilient Distributed Datasets (RDD)\n",
    "    * Estrutura básica de baixo nível\n",
    "    * Dados \"imutáveis\", distribuídos pelo cluster\n",
    "    * Em memória\n",
    "    * Pode ser persistido em disco\n",
    "    * Tolerante a falha\n",
    "    * Operações sobre um RDD criam um novo RDD\n",
    "    * Complexo e verboso\n",
    "    * Otimização difícil pelo Spark\n",
    "\n",
    "* Dataset e DataFrame\n",
    "    * Semelhante a uma tabela de banco de dados\n",
    "    * Compatível com objetos dataframe do R e do Python\n",
    "    * Dataset: Disponíveis em Java e Scala e Não disponíveis em R e Python\n",
    "    * Vamos estudar RDD, porém prioridade será o DataFrame\n",
    "\n",
    "### RDDs - Código"
   ]
  },
  {
   "cell_type": "code",
   "execution_count": 2,
   "id": "21663fea-df22-494e-b2ef-8bb95b01e91c",
   "metadata": {},
   "outputs": [],
   "source": [
    "conf = SparkConf().setMaster(\"local\").setAppName(\"MyApp\")\n",
    "sc = SparkContext(conf = conf)"
   ]
  },
  {
   "cell_type": "markdown",
   "id": "daa13d84-1c60-4181-adbe-2bae4ef6e82a",
   "metadata": {},
   "source": [
    "#### Código 1 - Números"
   ]
  },
  {
   "cell_type": "code",
   "execution_count": 3,
   "id": "68a92502-5b24-4487-9777-5af9beeca4c6",
   "metadata": {},
   "outputs": [],
   "source": [
    "numeros = sc.parallelize([1, 2, 3, 4, 5, 6, 7, 8, 9, 10])"
   ]
  },
  {
   "cell_type": "code",
   "execution_count": 4,
   "id": "a9a4a354-7954-4f34-9407-cd89ed779dd7",
   "metadata": {},
   "outputs": [
    {
     "data": {
      "text/plain": [
       "[1, 2, 3, 4, 5]"
      ]
     },
     "execution_count": 4,
     "metadata": {},
     "output_type": "execute_result"
    }
   ],
   "source": [
    "# obter 5 numeros\n",
    "numeros.take(5)"
   ]
  },
  {
   "cell_type": "code",
   "execution_count": 5,
   "id": "eb74fc9e-7c22-4688-8034-318876a589a0",
   "metadata": {},
   "outputs": [
    {
     "data": {
      "text/plain": [
       "[10, 9, 8, 7, 6]"
      ]
     },
     "execution_count": 5,
     "metadata": {},
     "output_type": "execute_result"
    }
   ],
   "source": [
    "# obter os 5 maiores elementos\n",
    "numeros.top(5)"
   ]
  },
  {
   "cell_type": "code",
   "execution_count": 6,
   "id": "8c96f70a-9391-4af1-a5fe-31a957d6a068",
   "metadata": {},
   "outputs": [
    {
     "data": {
      "text/plain": [
       "[1, 2, 3, 4, 5, 6, 7, 8, 9, 10]"
      ]
     },
     "execution_count": 6,
     "metadata": {},
     "output_type": "execute_result"
    }
   ],
   "source": [
    "# traz todos dados\n",
    "numeros.collect()"
   ]
  },
  {
   "cell_type": "code",
   "execution_count": 15,
   "id": "39dc88a7-cc91-4628-8e7a-6a4f80cda1f5",
   "metadata": {},
   "outputs": [
    {
     "name": "stdout",
     "output_type": "stream",
     "text": [
      "Quantidade de elementos: 10\n",
      "Média: 5.5\n",
      "Soma: 55\n",
      "Máximo: 10\n",
      "Mínimo: 1\n",
      "Desvio Padrão: 2.8722813232690143\n"
     ]
    }
   ],
   "source": [
    "# numero de elementos\n",
    "print(f\"Quantidade de elementos: {numeros.count()}\")\n",
    "\n",
    "# média\n",
    "print(f\"Média: {numeros.mean()}\")\n",
    "\n",
    "# soma\n",
    "print(f\"Soma: {numeros.sum()}\")\n",
    "\n",
    "# máximo\n",
    "print(f\"Máximo: {numeros.max()}\")\n",
    "\n",
    "# mínimo\n",
    "print(f\"Mínimo: {numeros.min()}\")\n",
    "\n",
    "# desvio padrão\n",
    "print(f\"Desvio Padrão: {numeros.stdev()}\")"
   ]
  },
  {
   "cell_type": "code",
   "execution_count": 16,
   "id": "fa64adfc-3ef7-46e7-b9b5-9c70e6bac4ce",
   "metadata": {},
   "outputs": [
    {
     "data": {
      "text/plain": [
       "[3, 4, 5, 6, 7, 8, 9, 10]"
      ]
     },
     "execution_count": 16,
     "metadata": {},
     "output_type": "execute_result"
    }
   ],
   "source": [
    "# filtro - transformação\n",
    "filtro = numeros.filter(lambda filtro: filtro > 2)\n",
    "\n",
    "# collect - ação\n",
    "filtro.collect()"
   ]
  },
  {
   "cell_type": "code",
   "execution_count": 17,
   "id": "ba893042-836a-4e75-ad4a-8e81da85827c",
   "metadata": {},
   "outputs": [
    {
     "data": {
      "text/plain": [
       "[2, 3, 4, 5, 9, 10]"
      ]
     },
     "execution_count": 17,
     "metadata": {},
     "output_type": "execute_result"
    }
   ],
   "source": [
    "# amostra com reposição - transformação\n",
    "amostra = numeros.sample(True, 0.5, 1)\n",
    "\n",
    "# collect - ação\n",
    "amostra.collect()"
   ]
  },
  {
   "cell_type": "code",
   "execution_count": 18,
   "id": "9673fbae-7825-4b12-bfb3-583bef6daf63",
   "metadata": {},
   "outputs": [
    {
     "data": {
      "text/plain": [
       "[2, 4, 6, 8, 10, 12, 14, 16, 18, 20]"
      ]
     },
     "execution_count": 18,
     "metadata": {},
     "output_type": "execute_result"
    }
   ],
   "source": [
    "# multiplicar todos elementos por 2 - transformação\n",
    "mapa = numeros.map(lambda mapa: mapa * 2)\n",
    "\n",
    "# collect - ação\n",
    "mapa.collect()"
   ]
  },
  {
   "cell_type": "code",
   "execution_count": 19,
   "id": "dfdabaef-b8c4-4fbb-9f06-511d95de3c93",
   "metadata": {},
   "outputs": [
    {
     "data": {
      "text/plain": [
       "[1, 2, 3, 4, 5, 6, 7, 8, 9, 10, 6, 7, 8, 9, 10]"
      ]
     },
     "execution_count": 19,
     "metadata": {},
     "output_type": "execute_result"
    }
   ],
   "source": [
    "# unir dois RDDs - transformação\n",
    "numeros2 = sc.parallelize([6, 7, 8, 9, 10])\n",
    "uniao = numeros.union(numeros2)\n",
    "\n",
    "# collect - ação\n",
    "uniao.collect()"
   ]
  },
  {
   "cell_type": "code",
   "execution_count": 20,
   "id": "9614d5c3-1bab-4f90-9767-be5fef8670f6",
   "metadata": {},
   "outputs": [
    {
     "data": {
      "text/plain": [
       "[6, 8, 10, 7, 9]"
      ]
     },
     "execution_count": 20,
     "metadata": {},
     "output_type": "execute_result"
    }
   ],
   "source": [
    "# intersecção dos RDDs - transformação\n",
    "interseccao = numeros.intersection(numeros2)\n",
    "\n",
    "# collect - ação\n",
    "interseccao.collect()"
   ]
  },
  {
   "cell_type": "code",
   "execution_count": 21,
   "id": "23cd1867-b317-4fb0-874c-30866d9a76ca",
   "metadata": {},
   "outputs": [
    {
     "data": {
      "text/plain": [
       "[2, 4, 1, 3, 5]"
      ]
     },
     "execution_count": 21,
     "metadata": {},
     "output_type": "execute_result"
    }
   ],
   "source": [
    "# diferença entre RDDs - transformação\n",
    "subtrai = numeros.subtract(numeros2)\n",
    "\n",
    "# collect - ação\n",
    "subtrai.collect()"
   ]
  },
  {
   "cell_type": "code",
   "execution_count": 30,
   "id": "f833faa7-5a65-4310-82e2-8bd75ca8998e",
   "metadata": {},
   "outputs": [
    {
     "name": "stdout",
     "output_type": "stream",
     "text": [
      "[(1, 6), (1, 7), (1, 8), (1, 9), (1, 10), (2, 6), (2, 7), (2, 8), (2, 9), (2, 10), (3, 6), (3, 7), (3, 8), (3, 9), (3, 10), (4, 6), (4, 7), (4, 8), (4, 9), (4, 10), (5, 6), (5, 7), (5, 8), (5, 9), (5, 10), (6, 6), (6, 7), (6, 8), (6, 9), (6, 10), (7, 6), (7, 7), (7, 8), (7, 9), (7, 10), (8, 6), (8, 7), (8, 8), (8, 9), (8, 10), (9, 6), (9, 7), (9, 8), (9, 9), (9, 10), (10, 6), (10, 7), (10, 8), (10, 9), (10, 10)]\n"
     ]
    }
   ],
   "source": [
    "# produto cartesiano - transformação\n",
    "cartesiano = numeros.cartesian(numeros2)\n",
    "\n",
    "# collect - ação\n",
    "print(cartesiano.collect())"
   ]
  },
  {
   "cell_type": "code",
   "execution_count": 29,
   "id": "331145da-37cc-40d9-b249-32bca071a645",
   "metadata": {},
   "outputs": [
    {
     "name": "stdout",
     "output_type": "stream",
     "text": [
      "defaultdict(<class 'int'>, {(1, 6): 1, (1, 7): 1, (1, 8): 1, (1, 9): 1, (1, 10): 1, (2, 6): 1, (2, 7): 1, (2, 8): 1, (2, 9): 1, (2, 10): 1, (3, 6): 1, (3, 7): 1, (3, 8): 1, (3, 9): 1, (3, 10): 1, (4, 6): 1, (4, 7): 1, (4, 8): 1, (4, 9): 1, (4, 10): 1, (5, 6): 1, (5, 7): 1, (5, 8): 1, (5, 9): 1, (5, 10): 1, (6, 6): 1, (6, 7): 1, (6, 8): 1, (6, 9): 1, (6, 10): 1, (7, 6): 1, (7, 7): 1, (7, 8): 1, (7, 9): 1, (7, 10): 1, (8, 6): 1, (8, 7): 1, (8, 8): 1, (8, 9): 1, (8, 10): 1, (9, 6): 1, (9, 7): 1, (9, 8): 1, (9, 9): 1, (9, 10): 1, (10, 6): 1, (10, 7): 1, (10, 8): 1, (10, 9): 1, (10, 10): 1})\n"
     ]
    }
   ],
   "source": [
    "# contar quantas vezes cada elemento aparece - ação\n",
    "print(cartesiano.countByValue())"
   ]
  },
  {
   "cell_type": "markdown",
   "id": "17525243-e3c2-456f-a84c-25b3dd6b9595",
   "metadata": {},
   "source": [
    "#### Código 2 - Compras"
   ]
  },
  {
   "cell_type": "code",
   "execution_count": 31,
   "id": "ee162846-29db-4b9b-8817-f0f0d1673608",
   "metadata": {},
   "outputs": [],
   "source": [
    "# (chave cliente, valor)\n",
    "compras = sc.parallelize([(1, 200), (2, 300), (3, 120), (4, 250), (5, 78)])"
   ]
  },
  {
   "cell_type": "code",
   "execution_count": 32,
   "id": "4677fadd-2f9d-43a3-8bac-8f5e38965e61",
   "metadata": {},
   "outputs": [
    {
     "data": {
      "text/plain": [
       "[1, 2, 3, 4, 5]"
      ]
     },
     "execution_count": 32,
     "metadata": {},
     "output_type": "execute_result"
    }
   ],
   "source": [
    "# obter apenas chaves - transformação\n",
    "chaves = compras.keys()\n",
    "\n",
    "# collect - ação\n",
    "chaves.collect()"
   ]
  },
  {
   "cell_type": "code",
   "execution_count": 34,
   "id": "c761b04a-5267-4c56-a706-1698ee3302b0",
   "metadata": {},
   "outputs": [
    {
     "data": {
      "text/plain": [
       "[200, 300, 120, 250, 78]"
      ]
     },
     "execution_count": 34,
     "metadata": {},
     "output_type": "execute_result"
    }
   ],
   "source": [
    "# obter apenas valores - transformação\n",
    "valores = compras.values()\n",
    "\n",
    "# collect - ação\n",
    "valores.collect()"
   ]
  },
  {
   "cell_type": "code",
   "execution_count": 37,
   "id": "6e316d0f-4c6e-402e-b07f-a3888f4b001a",
   "metadata": {},
   "outputs": [
    {
     "data": {
      "text/plain": [
       "defaultdict(int, {1: 1, 2: 1, 3: 1, 4: 1, 5: 1})"
      ]
     },
     "execution_count": 37,
     "metadata": {},
     "output_type": "execute_result"
    }
   ],
   "source": [
    "# contar quantas vezes cada chave aparece - ação\n",
    "compras.countByKey()"
   ]
  },
  {
   "cell_type": "code",
   "execution_count": 39,
   "id": "58033fc2-f09b-46ce-b427-a6ca81661591",
   "metadata": {},
   "outputs": [
    {
     "data": {
      "text/plain": [
       "[(1, 201), (2, 301), (3, 121), (4, 251), (5, 79)]"
      ]
     },
     "execution_count": 39,
     "metadata": {},
     "output_type": "execute_result"
    }
   ],
   "source": [
    "# somar 1 a todos valores - transformação\n",
    "soma = compras.mapValues(lambda soma: soma + 1)\n",
    "\n",
    "# collect - ação\n",
    "soma.collect()"
   ]
  },
  {
   "cell_type": "code",
   "execution_count": 40,
   "id": "182526a1-dea4-4448-a429-454d11c7e21e",
   "metadata": {},
   "outputs": [],
   "source": [
    "# clientes com debito - RDD\n",
    "debitos = sc.parallelize([(1, 20), (2, 300)])"
   ]
  },
  {
   "cell_type": "code",
   "execution_count": 41,
   "id": "05de891d-d3d8-4a16-b69a-874c4ab30e6f",
   "metadata": {},
   "outputs": [
    {
     "data": {
      "text/plain": [
       "[(2, (300, 300)), (1, (200, 20))]"
      ]
     },
     "execution_count": 41,
     "metadata": {},
     "output_type": "execute_result"
    }
   ],
   "source": [
    "# inner join compras e debitos - transformaçào\n",
    "resultado = compras.join(debitos)\n",
    "\n",
    "# collect - ação\n",
    "resultado.collect()"
   ]
  },
  {
   "cell_type": "code",
   "execution_count": 43,
   "id": "62cd7e69-e183-40d4-87cd-254717917cff",
   "metadata": {},
   "outputs": [
    {
     "data": {
      "text/plain": [
       "[(4, 250), (3, 120), (5, 78)]"
      ]
     },
     "execution_count": 43,
     "metadata": {},
     "output_type": "execute_result"
    }
   ],
   "source": [
    "# obter apenas clientes sem debito - transformação\n",
    "semdebito = compras.subtractByKey(debitos)\n",
    "\n",
    "# collect - ação\n",
    "semdebito.collect()"
   ]
  },
  {
   "cell_type": "code",
   "execution_count": null,
   "id": "52b102ff-dd71-4062-833d-47f4d4580e9f",
   "metadata": {},
   "outputs": [],
   "source": []
  }
 ],
 "metadata": {
  "kernelspec": {
   "display_name": "Python 3 (ipykernel)",
   "language": "python",
   "name": "python3"
  },
  "language_info": {
   "codemirror_mode": {
    "name": "ipython",
    "version": 3
   },
   "file_extension": ".py",
   "mimetype": "text/x-python",
   "name": "python",
   "nbconvert_exporter": "python",
   "pygments_lexer": "ipython3",
   "version": "3.10.10"
  }
 },
 "nbformat": 4,
 "nbformat_minor": 5
}
