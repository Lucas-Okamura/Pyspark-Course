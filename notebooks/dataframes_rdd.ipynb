{
 "cells": [
  {
   "cell_type": "markdown",
   "id": "f9b4fadb-30d0-4689-bc60-78c7e44d4ab1",
   "metadata": {},
   "source": [
    "# DataFrames e RDDs"
   ]
  },
  {
   "cell_type": "code",
   "execution_count": 2,
   "id": "20f90f5c-f5b6-477d-a7cd-9fd168141f1f",
   "metadata": {},
   "outputs": [],
   "source": [
    "import pyspark"
   ]
  },
  {
   "cell_type": "code",
   "execution_count": null,
   "id": "68a92502-5b24-4487-9777-5af9beeca4c6",
   "metadata": {},
   "outputs": [],
   "source": []
  }
 ],
 "metadata": {
  "kernelspec": {
   "display_name": "Python 3 (ipykernel)",
   "language": "python",
   "name": "python3"
  },
  "language_info": {
   "codemirror_mode": {
    "name": "ipython",
    "version": 3
   },
   "file_extension": ".py",
   "mimetype": "text/x-python",
   "name": "python",
   "nbconvert_exporter": "python",
   "pygments_lexer": "ipython3",
   "version": "3.10.10"
  }
 },
 "nbformat": 4,
 "nbformat_minor": 5
}
