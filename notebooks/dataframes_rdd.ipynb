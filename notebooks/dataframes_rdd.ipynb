{
 "cells": [
  {
   "cell_type": "markdown",
   "id": "f003706c-eea0-4ac3-b0f9-1c773d8d982c",
   "metadata": {},
   "source": [
    "# Formação Spark com Pyspark: o Curso Completo\n",
    "\n",
    "Curso da Udemy."
   ]
  },
  {
   "cell_type": "code",
   "execution_count": 70,
   "id": "20f90f5c-f5b6-477d-a7cd-9fd168141f1f",
   "metadata": {},
   "outputs": [],
   "source": [
    "from pyspark import SparkContext, SparkConf\n",
    "from pyspark.sql import SparkSession\n",
    "from pyspark.sql import functions as Func\n",
    "from pyspark.sql.types import *\n",
    "import os\n",
    "import sys\n",
    "\n",
    "os.environ['JAVA_HOME'] = \"D:\\Java\\jre1.8.0_361\"\n",
    "os.environ['PYSPARK_PYTHON'] = sys.executable"
   ]
  },
  {
   "cell_type": "markdown",
   "id": "cd520227-ecf8-42a0-9f3f-6b7e92b7320a",
   "metadata": {},
   "source": [
    "## RDDs\n",
    "\n",
    "* Transformações: criam um novo RDD / Dataframe cujas alterações não são executadas até que haja uma ação\n",
    "* Ações: calcula todas as transformações de uma só vez\n",
    "\n",
    "* RDD - Resilient Distributed Datasets (RDD)\n",
    "    * Estrutura básica de baixo nível\n",
    "    * Dados \"imutáveis\", distribuídos pelo cluster\n",
    "    * Em memória\n",
    "    * Pode ser persistido em disco\n",
    "    * Tolerante a falha\n",
    "    * Operações sobre um RDD criam um novo RDD\n",
    "    * Complexo e verboso\n",
    "    * Otimização difícil pelo Spark"
   ]
  },
  {
   "cell_type": "code",
   "execution_count": 45,
   "id": "21663fea-df22-494e-b2ef-8bb95b01e91c",
   "metadata": {},
   "outputs": [],
   "source": [
    "sc = SparkContext.getOrCreate()"
   ]
  },
  {
   "cell_type": "markdown",
   "id": "daa13d84-1c60-4181-adbe-2bae4ef6e82a",
   "metadata": {},
   "source": [
    "### Código 1 - Números"
   ]
  },
  {
   "cell_type": "code",
   "execution_count": 46,
   "id": "68a92502-5b24-4487-9777-5af9beeca4c6",
   "metadata": {},
   "outputs": [],
   "source": [
    "numeros = sc.parallelize([1, 2, 3, 4, 5, 6, 7, 8, 9, 10])"
   ]
  },
  {
   "cell_type": "code",
   "execution_count": 47,
   "id": "a9a4a354-7954-4f34-9407-cd89ed779dd7",
   "metadata": {},
   "outputs": [
    {
     "data": {
      "text/plain": [
       "[1, 2, 3, 4, 5]"
      ]
     },
     "execution_count": 47,
     "metadata": {},
     "output_type": "execute_result"
    }
   ],
   "source": [
    "# obter 5 numeros\n",
    "numeros.take(5)"
   ]
  },
  {
   "cell_type": "code",
   "execution_count": 5,
   "id": "eb74fc9e-7c22-4688-8034-318876a589a0",
   "metadata": {},
   "outputs": [
    {
     "data": {
      "text/plain": [
       "[10, 9, 8, 7, 6]"
      ]
     },
     "execution_count": 5,
     "metadata": {},
     "output_type": "execute_result"
    }
   ],
   "source": [
    "# obter os 5 maiores elementos\n",
    "numeros.top(5)"
   ]
  },
  {
   "cell_type": "code",
   "execution_count": 6,
   "id": "8c96f70a-9391-4af1-a5fe-31a957d6a068",
   "metadata": {},
   "outputs": [
    {
     "data": {
      "text/plain": [
       "[1, 2, 3, 4, 5, 6, 7, 8, 9, 10]"
      ]
     },
     "execution_count": 6,
     "metadata": {},
     "output_type": "execute_result"
    }
   ],
   "source": [
    "# traz todos dados\n",
    "numeros.collect()"
   ]
  },
  {
   "cell_type": "code",
   "execution_count": 15,
   "id": "39dc88a7-cc91-4628-8e7a-6a4f80cda1f5",
   "metadata": {},
   "outputs": [
    {
     "name": "stdout",
     "output_type": "stream",
     "text": [
      "Quantidade de elementos: 10\n",
      "Média: 5.5\n",
      "Soma: 55\n",
      "Máximo: 10\n",
      "Mínimo: 1\n",
      "Desvio Padrão: 2.8722813232690143\n"
     ]
    }
   ],
   "source": [
    "# numero de elementos\n",
    "print(f\"Quantidade de elementos: {numeros.count()}\")\n",
    "\n",
    "# média\n",
    "print(f\"Média: {numeros.mean()}\")\n",
    "\n",
    "# soma\n",
    "print(f\"Soma: {numeros.sum()}\")\n",
    "\n",
    "# máximo\n",
    "print(f\"Máximo: {numeros.max()}\")\n",
    "\n",
    "# mínimo\n",
    "print(f\"Mínimo: {numeros.min()}\")\n",
    "\n",
    "# desvio padrão\n",
    "print(f\"Desvio Padrão: {numeros.stdev()}\")"
   ]
  },
  {
   "cell_type": "code",
   "execution_count": 16,
   "id": "fa64adfc-3ef7-46e7-b9b5-9c70e6bac4ce",
   "metadata": {},
   "outputs": [
    {
     "data": {
      "text/plain": [
       "[3, 4, 5, 6, 7, 8, 9, 10]"
      ]
     },
     "execution_count": 16,
     "metadata": {},
     "output_type": "execute_result"
    }
   ],
   "source": [
    "# filtro - transformação\n",
    "filtro = numeros.filter(lambda filtro: filtro > 2)\n",
    "\n",
    "# collect - ação\n",
    "filtro.collect()"
   ]
  },
  {
   "cell_type": "code",
   "execution_count": 17,
   "id": "ba893042-836a-4e75-ad4a-8e81da85827c",
   "metadata": {},
   "outputs": [
    {
     "data": {
      "text/plain": [
       "[2, 3, 4, 5, 9, 10]"
      ]
     },
     "execution_count": 17,
     "metadata": {},
     "output_type": "execute_result"
    }
   ],
   "source": [
    "# amostra com reposição - transformação\n",
    "amostra = numeros.sample(True, 0.5, 1)\n",
    "\n",
    "# collect - ação\n",
    "amostra.collect()"
   ]
  },
  {
   "cell_type": "code",
   "execution_count": 18,
   "id": "9673fbae-7825-4b12-bfb3-583bef6daf63",
   "metadata": {},
   "outputs": [
    {
     "data": {
      "text/plain": [
       "[2, 4, 6, 8, 10, 12, 14, 16, 18, 20]"
      ]
     },
     "execution_count": 18,
     "metadata": {},
     "output_type": "execute_result"
    }
   ],
   "source": [
    "# multiplicar todos elementos por 2 - transformação\n",
    "mapa = numeros.map(lambda mapa: mapa * 2)\n",
    "\n",
    "# collect - ação\n",
    "mapa.collect()"
   ]
  },
  {
   "cell_type": "code",
   "execution_count": 19,
   "id": "dfdabaef-b8c4-4fbb-9f06-511d95de3c93",
   "metadata": {},
   "outputs": [
    {
     "data": {
      "text/plain": [
       "[1, 2, 3, 4, 5, 6, 7, 8, 9, 10, 6, 7, 8, 9, 10]"
      ]
     },
     "execution_count": 19,
     "metadata": {},
     "output_type": "execute_result"
    }
   ],
   "source": [
    "# unir dois RDDs - transformação\n",
    "numeros2 = sc.parallelize([6, 7, 8, 9, 10])\n",
    "uniao = numeros.union(numeros2)\n",
    "\n",
    "# collect - ação\n",
    "uniao.collect()"
   ]
  },
  {
   "cell_type": "code",
   "execution_count": 20,
   "id": "9614d5c3-1bab-4f90-9767-be5fef8670f6",
   "metadata": {},
   "outputs": [
    {
     "data": {
      "text/plain": [
       "[6, 8, 10, 7, 9]"
      ]
     },
     "execution_count": 20,
     "metadata": {},
     "output_type": "execute_result"
    }
   ],
   "source": [
    "# intersecção dos RDDs - transformação\n",
    "interseccao = numeros.intersection(numeros2)\n",
    "\n",
    "# collect - ação\n",
    "interseccao.collect()"
   ]
  },
  {
   "cell_type": "code",
   "execution_count": 21,
   "id": "23cd1867-b317-4fb0-874c-30866d9a76ca",
   "metadata": {},
   "outputs": [
    {
     "data": {
      "text/plain": [
       "[2, 4, 1, 3, 5]"
      ]
     },
     "execution_count": 21,
     "metadata": {},
     "output_type": "execute_result"
    }
   ],
   "source": [
    "# diferença entre RDDs - transformação\n",
    "subtrai = numeros.subtract(numeros2)\n",
    "\n",
    "# collect - ação\n",
    "subtrai.collect()"
   ]
  },
  {
   "cell_type": "code",
   "execution_count": 30,
   "id": "f833faa7-5a65-4310-82e2-8bd75ca8998e",
   "metadata": {},
   "outputs": [
    {
     "name": "stdout",
     "output_type": "stream",
     "text": [
      "[(1, 6), (1, 7), (1, 8), (1, 9), (1, 10), (2, 6), (2, 7), (2, 8), (2, 9), (2, 10), (3, 6), (3, 7), (3, 8), (3, 9), (3, 10), (4, 6), (4, 7), (4, 8), (4, 9), (4, 10), (5, 6), (5, 7), (5, 8), (5, 9), (5, 10), (6, 6), (6, 7), (6, 8), (6, 9), (6, 10), (7, 6), (7, 7), (7, 8), (7, 9), (7, 10), (8, 6), (8, 7), (8, 8), (8, 9), (8, 10), (9, 6), (9, 7), (9, 8), (9, 9), (9, 10), (10, 6), (10, 7), (10, 8), (10, 9), (10, 10)]\n"
     ]
    }
   ],
   "source": [
    "# produto cartesiano - transformação\n",
    "cartesiano = numeros.cartesian(numeros2)\n",
    "\n",
    "# collect - ação\n",
    "print(cartesiano.collect())"
   ]
  },
  {
   "cell_type": "code",
   "execution_count": 29,
   "id": "331145da-37cc-40d9-b249-32bca071a645",
   "metadata": {},
   "outputs": [
    {
     "name": "stdout",
     "output_type": "stream",
     "text": [
      "defaultdict(<class 'int'>, {(1, 6): 1, (1, 7): 1, (1, 8): 1, (1, 9): 1, (1, 10): 1, (2, 6): 1, (2, 7): 1, (2, 8): 1, (2, 9): 1, (2, 10): 1, (3, 6): 1, (3, 7): 1, (3, 8): 1, (3, 9): 1, (3, 10): 1, (4, 6): 1, (4, 7): 1, (4, 8): 1, (4, 9): 1, (4, 10): 1, (5, 6): 1, (5, 7): 1, (5, 8): 1, (5, 9): 1, (5, 10): 1, (6, 6): 1, (6, 7): 1, (6, 8): 1, (6, 9): 1, (6, 10): 1, (7, 6): 1, (7, 7): 1, (7, 8): 1, (7, 9): 1, (7, 10): 1, (8, 6): 1, (8, 7): 1, (8, 8): 1, (8, 9): 1, (8, 10): 1, (9, 6): 1, (9, 7): 1, (9, 8): 1, (9, 9): 1, (9, 10): 1, (10, 6): 1, (10, 7): 1, (10, 8): 1, (10, 9): 1, (10, 10): 1})\n"
     ]
    }
   ],
   "source": [
    "# contar quantas vezes cada elemento aparece - ação\n",
    "print(cartesiano.countByValue())"
   ]
  },
  {
   "cell_type": "markdown",
   "id": "17525243-e3c2-456f-a84c-25b3dd6b9595",
   "metadata": {},
   "source": [
    "### Código 2 - Compras"
   ]
  },
  {
   "cell_type": "code",
   "execution_count": 31,
   "id": "ee162846-29db-4b9b-8817-f0f0d1673608",
   "metadata": {},
   "outputs": [],
   "source": [
    "# (chave cliente, valor)\n",
    "compras = sc.parallelize([(1, 200), (2, 300), (3, 120), (4, 250), (5, 78)])"
   ]
  },
  {
   "cell_type": "code",
   "execution_count": 32,
   "id": "4677fadd-2f9d-43a3-8bac-8f5e38965e61",
   "metadata": {},
   "outputs": [
    {
     "data": {
      "text/plain": [
       "[1, 2, 3, 4, 5]"
      ]
     },
     "execution_count": 32,
     "metadata": {},
     "output_type": "execute_result"
    }
   ],
   "source": [
    "# obter apenas chaves - transformação\n",
    "chaves = compras.keys()\n",
    "\n",
    "# collect - ação\n",
    "chaves.collect()"
   ]
  },
  {
   "cell_type": "code",
   "execution_count": 34,
   "id": "c761b04a-5267-4c56-a706-1698ee3302b0",
   "metadata": {},
   "outputs": [
    {
     "data": {
      "text/plain": [
       "[200, 300, 120, 250, 78]"
      ]
     },
     "execution_count": 34,
     "metadata": {},
     "output_type": "execute_result"
    }
   ],
   "source": [
    "# obter apenas valores - transformação\n",
    "valores = compras.values()\n",
    "\n",
    "# collect - ação\n",
    "valores.collect()"
   ]
  },
  {
   "cell_type": "code",
   "execution_count": 37,
   "id": "6e316d0f-4c6e-402e-b07f-a3888f4b001a",
   "metadata": {},
   "outputs": [
    {
     "data": {
      "text/plain": [
       "defaultdict(int, {1: 1, 2: 1, 3: 1, 4: 1, 5: 1})"
      ]
     },
     "execution_count": 37,
     "metadata": {},
     "output_type": "execute_result"
    }
   ],
   "source": [
    "# contar quantas vezes cada chave aparece - ação\n",
    "compras.countByKey()"
   ]
  },
  {
   "cell_type": "code",
   "execution_count": 39,
   "id": "58033fc2-f09b-46ce-b427-a6ca81661591",
   "metadata": {},
   "outputs": [
    {
     "data": {
      "text/plain": [
       "[(1, 201), (2, 301), (3, 121), (4, 251), (5, 79)]"
      ]
     },
     "execution_count": 39,
     "metadata": {},
     "output_type": "execute_result"
    }
   ],
   "source": [
    "# somar 1 a todos valores - transformação\n",
    "soma = compras.mapValues(lambda soma: soma + 1)\n",
    "\n",
    "# collect - ação\n",
    "soma.collect()"
   ]
  },
  {
   "cell_type": "code",
   "execution_count": 40,
   "id": "182526a1-dea4-4448-a429-454d11c7e21e",
   "metadata": {},
   "outputs": [],
   "source": [
    "# clientes com debito - RDD\n",
    "debitos = sc.parallelize([(1, 20), (2, 300)])"
   ]
  },
  {
   "cell_type": "code",
   "execution_count": 41,
   "id": "05de891d-d3d8-4a16-b69a-874c4ab30e6f",
   "metadata": {},
   "outputs": [
    {
     "data": {
      "text/plain": [
       "[(2, (300, 300)), (1, (200, 20))]"
      ]
     },
     "execution_count": 41,
     "metadata": {},
     "output_type": "execute_result"
    }
   ],
   "source": [
    "# inner join compras e debitos - transformaçào\n",
    "resultado = compras.join(debitos)\n",
    "\n",
    "# collect - ação\n",
    "resultado.collect()"
   ]
  },
  {
   "cell_type": "code",
   "execution_count": 43,
   "id": "62cd7e69-e183-40d4-87cd-254717917cff",
   "metadata": {},
   "outputs": [
    {
     "data": {
      "text/plain": [
       "[(4, 250), (3, 120), (5, 78)]"
      ]
     },
     "execution_count": 43,
     "metadata": {},
     "output_type": "execute_result"
    }
   ],
   "source": [
    "# obter apenas clientes sem debito - transformação\n",
    "semdebito = compras.subtractByKey(debitos)\n",
    "\n",
    "# collect - ação\n",
    "semdebito.collect()"
   ]
  },
  {
   "cell_type": "markdown",
   "id": "dc8c9fb9-6896-48f3-a48a-8f91ae320b62",
   "metadata": {},
   "source": [
    "## DataFrames\n",
    "\n",
    "* Dataset e DataFrame\n",
    "    * Semelhante a uma tabela de banco de dados\n",
    "    * Compatível com objetos dataframe do R e do Python\n",
    "    * Dataset: Disponíveis em Java e Scala e Não disponíveis em R e Python\n",
    "    * Vamos estudar RDD, porém prioridade será o DataFrame\n",
    "    * Tabelas com linhas e colunas\n",
    "    * Imutáveis\n",
    "    * Com schema conhecido\n",
    "    * Linhagem preservada\n",
    "    * Colunas podem ter tipos diferentes\n",
    "    * Existem análises comuns: Agrupar, ordenar, filtrar\n",
    "    * Spark pode otimizar estas análises através de planos de execução\n",
    "    \n",
    "* Lazy evaluation\n",
    "    * O processamento de transformação de fato só ocrre quando há uma ação\n",
    "\n",
    "* Schema\n",
    "    * Você pode deixar para o Spark inferir a partir de parte dos dados ou\n",
    "    * Você pode definir o schema\n",
    "    * Definir tem vantagens:\n",
    "        * Tipo correto\n",
    "        * Sem overhead (tira a necessidade do Spark inferir esses dados)\n",
    "        \n",
    "### Código 1 - Exemplos Simples"
   ]
  },
  {
   "cell_type": "code",
   "execution_count": 48,
   "id": "c1b266c8-31ec-4898-a5ff-410202d63f92",
   "metadata": {},
   "outputs": [],
   "source": [
    "# instanciando SparkSession\n",
    "spark = SparkSession.builder.appName('PySpark Course').getOrCreate()"
   ]
  },
  {
   "cell_type": "code",
   "execution_count": 49,
   "id": "084e6600-f737-405e-9300-09bd8d09f387",
   "metadata": {},
   "outputs": [
    {
     "name": "stdout",
     "output_type": "stream",
     "text": [
      "+-----+---+\n",
      "|   _1| _2|\n",
      "+-----+---+\n",
      "|Pedro| 10|\n",
      "|Maria| 20|\n",
      "| José| 40|\n",
      "+-----+---+\n",
      "\n"
     ]
    }
   ],
   "source": [
    "# criando dataframe\n",
    "df1 = spark.createDataFrame([(\"Pedro\", 10), (\"Maria\", 20), (\"José\", 40)])\n",
    "df1.show()"
   ]
  },
  {
   "cell_type": "code",
   "execution_count": 50,
   "id": "43d72e33-2579-440f-a667-c0ba35a3571c",
   "metadata": {},
   "outputs": [
    {
     "name": "stdout",
     "output_type": "stream",
     "text": [
      "+---+-----+\n",
      "| Id| Nome|\n",
      "+---+-----+\n",
      "|  1|Pedro|\n",
      "|  2|Maria|\n",
      "+---+-----+\n",
      "\n"
     ]
    }
   ],
   "source": [
    "# criando dataframe a partir de um schema e dados\n",
    "schema = \"Id INT, Nome STRING\"\n",
    "dados = [[1, \"Pedro\"], [2, \"Maria\"]]\n",
    "df2 = spark.createDataFrame(dados, schema)\n",
    "df2.show()"
   ]
  },
  {
   "cell_type": "code",
   "execution_count": 52,
   "id": "382dcd07-e960-4be6-92bf-ccce3f5579da",
   "metadata": {},
   "outputs": [
    {
     "name": "stdout",
     "output_type": "stream",
     "text": [
      "+--------+------+\n",
      "|Produtos|Vendas|\n",
      "+--------+------+\n",
      "|  Caneta|    10|\n",
      "|   Lápis|    20|\n",
      "|  Caneta|    40|\n",
      "+--------+------+\n",
      "\n"
     ]
    }
   ],
   "source": [
    "# outro exemplo de schema - vendas\n",
    "schema2 = \"Produtos STRING, Vendas INT\"\n",
    "vendas = [[\"Caneta\", 10], [\"Lápis\", 20], [\"Caneta\", 40]]\n",
    "df3 = spark.createDataFrame(vendas, schema2)\n",
    "df3.show()"
   ]
  },
  {
   "cell_type": "code",
   "execution_count": 71,
   "id": "996fc0e7-4cb0-406e-a846-24dc416a65eb",
   "metadata": {},
   "outputs": [
    {
     "name": "stdout",
     "output_type": "stream",
     "text": [
      "+--------+-----------+\n",
      "|Produtos|sum(Vendas)|\n",
      "+--------+-----------+\n",
      "|  Caneta|         50|\n",
      "|   Lápis|         20|\n",
      "+--------+-----------+\n",
      "\n"
     ]
    }
   ],
   "source": [
    "# agregar total de vendas por produto\n",
    "df3.groupBy(\"Produtos\").agg(Func.sum(\"Vendas\")).show()"
   ]
  },
  {
   "cell_type": "code",
   "execution_count": 56,
   "id": "776e9d87-25a0-48b0-99fe-ae0aa64832ba",
   "metadata": {},
   "outputs": [
    {
     "name": "stdout",
     "output_type": "stream",
     "text": [
      "+--------+\n",
      "|Produtos|\n",
      "+--------+\n",
      "|  Caneta|\n",
      "|   Lápis|\n",
      "|  Caneta|\n",
      "+--------+\n",
      "\n"
     ]
    }
   ],
   "source": [
    "# observar apenas coluna de Produtos\n",
    "df3.select(\"Produtos\").show()"
   ]
  },
  {
   "cell_type": "code",
   "execution_count": 72,
   "id": "40c1e421-c706-411c-8766-8de7cba1cc98",
   "metadata": {},
   "outputs": [
    {
     "name": "stdout",
     "output_type": "stream",
     "text": [
      "+--------+------+--------------+\n",
      "|Produtos|Vendas|(Vendas * 0.2)|\n",
      "+--------+------+--------------+\n",
      "|  Caneta|    10|           2.0|\n",
      "|   Lápis|    20|           4.0|\n",
      "|  Caneta|    40|           8.0|\n",
      "+--------+------+--------------+\n",
      "\n"
     ]
    }
   ],
   "source": [
    "# calcular percentual x% de Vendas\n",
    "percentual = 0.2\n",
    "df3.select(\"Produtos\", \"Vendas\", Func.expr(f\"Vendas * {percentual}\")).show()"
   ]
  },
  {
   "cell_type": "code",
   "execution_count": 60,
   "id": "79dd3ab3-993b-419c-9ac8-ab44d24690f5",
   "metadata": {},
   "outputs": [
    {
     "data": {
      "text/plain": [
       "StructType(List(StructField(Produtos,StringType,true),StructField(Vendas,IntegerType,true)))"
      ]
     },
     "execution_count": 60,
     "metadata": {},
     "output_type": "execute_result"
    }
   ],
   "source": [
    "# retornar schema do dataframe\n",
    "df3.schema"
   ]
  },
  {
   "cell_type": "code",
   "execution_count": 61,
   "id": "6046b963-a757-46df-a9e8-aced041c3e5a",
   "metadata": {},
   "outputs": [
    {
     "data": {
      "text/plain": [
       "['Produtos', 'Vendas']"
      ]
     },
     "execution_count": 61,
     "metadata": {},
     "output_type": "execute_result"
    }
   ],
   "source": [
    "# retornar colunas\n",
    "df3.columns"
   ]
  },
  {
   "cell_type": "markdown",
   "id": "a1a5378e-bf78-49bc-93b9-a42afe59d717",
   "metadata": {},
   "source": [
    "### Código 2 - Importando Dados"
   ]
  },
  {
   "cell_type": "code",
   "execution_count": 64,
   "id": "de7f34f5-d90c-4f8d-98c9-bd71fb17ed0c",
   "metadata": {},
   "outputs": [
    {
     "name": "stdout",
     "output_type": "stream",
     "text": [
      "+---+-------------------+------+-------------+------+----------+\n",
      "| id|               nome|status|       cidade|vendas|      data|\n",
      "+---+-------------------+------+-------------+------+----------+\n",
      "|  1|   Carminda Pestana| Ativo|  Santa Maria|    23|2020-08-11|\n",
      "|  2|    Deolinda Vilela| Ativo|Novo Hamburgo|    34|2020-03-05|\n",
      "|  3|   Emídio Dornelles| Ativo| Porto Alegre|    34|2020-02-05|\n",
      "|  4|Felisbela Dornelles| Ativo| Porto Alegre|    36|2020-02-05|\n",
      "|  5|     Graça Ornellas| Ativo| Porto Alegre|    12|2020-02-05|\n",
      "|  6|   Matilde Rebouças| Ativo| Porto Alegre|    22|2019-01-05|\n",
      "|  7|    Noêmia   Orriça| Ativo|  Santa Maria|    45|2019-10-05|\n",
      "|  8|      Roque Vásquez| Ativo| Porto Alegre|    65|2020-03-05|\n",
      "|  9|      Uriel Queiroz| Ativo| Porto Alegre|    54|2018-05-05|\n",
      "| 10|   Viviana Sequeira| Ativo| Porto Alegre|     0|2020-09-05|\n",
      "+---+-------------------+------+-------------+------+----------+\n",
      "\n"
     ]
    }
   ],
   "source": [
    "# especificando schema e lendo csv\n",
    "arqschema = \"id INT, nome STRING, status STRING, cidade STRING, vendas INT, data STRING\"\n",
    "despachantes = spark.read.csv(\"../data/despachantes.csv\", header = False, schema = arqschema)\n",
    "despachantes.show()"
   ]
  },
  {
   "cell_type": "code",
   "execution_count": 65,
   "id": "d9e7f5ad-c3fb-45ff-8d7d-b6368f9eba33",
   "metadata": {},
   "outputs": [
    {
     "name": "stdout",
     "output_type": "stream",
     "text": [
      "+---+-------------------+-----+-------------+---+----------+\n",
      "|_c0|                _c1|  _c2|          _c3|_c4|       _c5|\n",
      "+---+-------------------+-----+-------------+---+----------+\n",
      "|  1|   Carminda Pestana|Ativo|  Santa Maria| 23|2020-08-11|\n",
      "|  2|    Deolinda Vilela|Ativo|Novo Hamburgo| 34|2020-03-05|\n",
      "|  3|   Emídio Dornelles|Ativo| Porto Alegre| 34|2020-02-05|\n",
      "|  4|Felisbela Dornelles|Ativo| Porto Alegre| 36|2020-02-05|\n",
      "|  5|     Graça Ornellas|Ativo| Porto Alegre| 12|2020-02-05|\n",
      "|  6|   Matilde Rebouças|Ativo| Porto Alegre| 22|2019-01-05|\n",
      "|  7|    Noêmia   Orriça|Ativo|  Santa Maria| 45|2019-10-05|\n",
      "|  8|      Roque Vásquez|Ativo| Porto Alegre| 65|2020-03-05|\n",
      "|  9|      Uriel Queiroz|Ativo| Porto Alegre| 54|2018-05-05|\n",
      "| 10|   Viviana Sequeira|Ativo| Porto Alegre|  0|2020-09-05|\n",
      "+---+-------------------+-----+-------------+---+----------+\n",
      "\n"
     ]
    }
   ],
   "source": [
    "# teste - deixar o pyspark inferir os data types\n",
    "desp_autoschema = spark.read.load(\"../data/despachantes.csv\", header = False, format = \"csv\", sep = \",\", inferSchema = True)\n",
    "desp_autoschema.show()"
   ]
  },
  {
   "cell_type": "code",
   "execution_count": 68,
   "id": "80c74592-4209-4ab0-a382-0242a8b87fa1",
   "metadata": {},
   "outputs": [
    {
     "name": "stdout",
     "output_type": "stream",
     "text": [
      "StructType(List(StructField(id,IntegerType,true),StructField(nome,StringType,true),StructField(status,StringType,true),StructField(cidade,StringType,true),StructField(vendas,IntegerType,true),StructField(data,StringType,true)))\n",
      "StructType(List(StructField(_c0,IntegerType,true),StructField(_c1,StringType,true),StructField(_c2,StringType,true),StructField(_c3,StringType,true),StructField(_c4,IntegerType,true),StructField(_c5,StringType,true)))\n"
     ]
    }
   ],
   "source": [
    "# comparação de schemas - manual e inferido\n",
    "print(despachantes.schema)\n",
    "\n",
    "print(desp_autoschema.schema)"
   ]
  },
  {
   "cell_type": "code",
   "execution_count": 76,
   "id": "9edf0c2f-ce65-413c-9bf0-c70928c2317e",
   "metadata": {},
   "outputs": [
    {
     "name": "stdout",
     "output_type": "stream",
     "text": [
      "+---+-------------------+------+\n",
      "| id|               nome|vendas|\n",
      "+---+-------------------+------+\n",
      "|  1|   Carminda Pestana|    23|\n",
      "|  2|    Deolinda Vilela|    34|\n",
      "|  3|   Emídio Dornelles|    34|\n",
      "|  4|Felisbela Dornelles|    36|\n",
      "|  6|   Matilde Rebouças|    22|\n",
      "|  7|    Noêmia   Orriça|    45|\n",
      "|  8|      Roque Vásquez|    65|\n",
      "|  9|      Uriel Queiroz|    54|\n",
      "+---+-------------------+------+\n",
      "\n"
     ]
    }
   ],
   "source": [
    "# filtros: filtrar dataframe despachantes cuja venda foi maior que 20\n",
    "despachantes.select('id', 'nome', 'vendas').where(Func.col('vendas') > 20).show()"
   ]
  },
  {
   "cell_type": "code",
   "execution_count": 78,
   "id": "665a9b68-e2e4-46fb-82b3-db3dd562662b",
   "metadata": {},
   "outputs": [
    {
     "name": "stdout",
     "output_type": "stream",
     "text": [
      "+---+-------------------+------+\n",
      "| id|               nome|vendas|\n",
      "+---+-------------------+------+\n",
      "|  1|   Carminda Pestana|    23|\n",
      "|  2|    Deolinda Vilela|    34|\n",
      "|  3|   Emídio Dornelles|    34|\n",
      "|  4|Felisbela Dornelles|    36|\n",
      "|  6|   Matilde Rebouças|    22|\n",
      "+---+-------------------+------+\n",
      "\n"
     ]
    }
   ],
   "source": [
    "# exemplo 2 filtros\n",
    "cond1 = Func.col('vendas') > 20\n",
    "cond2 = Func.col('vendas') < 40\n",
    "despachantes.select('id', 'nome', 'vendas').where(cond1 & cond2).show()"
   ]
  },
  {
   "cell_type": "code",
   "execution_count": 80,
   "id": "9f13e399-7d2f-4502-b1ba-24173e561eb0",
   "metadata": {},
   "outputs": [
    {
     "data": {
      "text/plain": [
       "['id', 'nomes', 'status', 'cidade', 'vendas', 'data']"
      ]
     },
     "execution_count": 80,
     "metadata": {},
     "output_type": "execute_result"
    }
   ],
   "source": [
    "# renomeando colunas - é necessário criar um novo dataframe\n",
    "novodf = despachantes.withColumnRenamed(\"nome\", \"nomes\")\n",
    "novodf.columns"
   ]
  },
  {
   "cell_type": "code",
   "execution_count": 84,
   "id": "70e0b44d-8d21-4197-8d6b-1639344b3014",
   "metadata": {},
   "outputs": [
    {
     "data": {
      "text/plain": [
       "StructType(List(StructField(id,IntegerType,true),StructField(nome,StringType,true),StructField(status,StringType,true),StructField(cidade,StringType,true),StructField(vendas,IntegerType,true),StructField(data,StringType,true),StructField(data2,TimestampType,true)))"
      ]
     },
     "execution_count": 84,
     "metadata": {},
     "output_type": "execute_result"
    }
   ],
   "source": [
    "# mudar tipo da coluna data para datetime\n",
    "despachantes2 = despachantes.withColumn(\"data2\", Func.to_timestamp(Func.col(\"data\"), \"yyyy-MM-dd\"))\n",
    "despachantes2.schema"
   ]
  },
  {
   "cell_type": "code",
   "execution_count": 91,
   "id": "116bd0a4-e9ca-4331-b247-c1b30c994492",
   "metadata": {},
   "outputs": [
    {
     "name": "stdout",
     "output_type": "stream",
     "text": [
      "+-------------------+----------+\n",
      "|               nome|year(data)|\n",
      "+-------------------+----------+\n",
      "|   Carminda Pestana|      2020|\n",
      "|    Deolinda Vilela|      2020|\n",
      "|   Emídio Dornelles|      2020|\n",
      "|Felisbela Dornelles|      2020|\n",
      "|     Graça Ornellas|      2020|\n",
      "|   Matilde Rebouças|      2019|\n",
      "|    Noêmia   Orriça|      2019|\n",
      "|      Roque Vásquez|      2020|\n",
      "|      Uriel Queiroz|      2018|\n",
      "|   Viviana Sequeira|      2020|\n",
      "+-------------------+----------+\n",
      "\n"
     ]
    }
   ],
   "source": [
    "# funções de datas em colunas string\n",
    "despachantes2.select(\"nome\", Func.year(\"data\")) \\\n",
    "             .orderBy(\"nome\") \\\n",
    "             .show()"
   ]
  },
  {
   "cell_type": "code",
   "execution_count": 94,
   "id": "7dc76000-ac35-4c43-abdb-aab373f01b38",
   "metadata": {},
   "outputs": [
    {
     "name": "stdout",
     "output_type": "stream",
     "text": [
      "+----------+-----+\n",
      "|year(data)|count|\n",
      "+----------+-----+\n",
      "|      2018|    1|\n",
      "|      2019|    2|\n",
      "|      2020|    7|\n",
      "+----------+-----+\n",
      "\n"
     ]
    }
   ],
   "source": [
    "# funções de datas em colunas string - groupby\n",
    "despachantes2.select(\"data\") \\\n",
    "             .groupBy(Func.year(\"data\")) \\\n",
    "             .count() \\\n",
    "             .show()"
   ]
  },
  {
   "cell_type": "code",
   "execution_count": null,
   "id": "a0adc079-93a3-449c-b769-67f300d8447c",
   "metadata": {},
   "outputs": [],
   "source": []
  }
 ],
 "metadata": {
  "kernelspec": {
   "display_name": "Python 3 (ipykernel)",
   "language": "python",
   "name": "python3"
  },
  "language_info": {
   "codemirror_mode": {
    "name": "ipython",
    "version": 3
   },
   "file_extension": ".py",
   "mimetype": "text/x-python",
   "name": "python",
   "nbconvert_exporter": "python",
   "pygments_lexer": "ipython3",
   "version": "3.10.10"
  }
 },
 "nbformat": 4,
 "nbformat_minor": 5
}
