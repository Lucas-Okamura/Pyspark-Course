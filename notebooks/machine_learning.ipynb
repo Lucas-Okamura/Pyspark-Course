{
 "cells": [
  {
   "cell_type": "markdown",
   "id": "36719ef1",
   "metadata": {},
   "source": [
    "# Formação Spark com Pyspark: o Curso Completo\n",
    "\n",
    "## Seção 5: Machine Learning com Spark\n",
    "\n",
    "Curso da Udemy."
   ]
  },
  {
   "cell_type": "code",
   "execution_count": 26,
   "id": "41ca87d4",
   "metadata": {},
   "outputs": [],
   "source": [
    "from pyspark.sql import SparkSession\n",
    "from pyspark.sql import functions as Func\n",
    "from pyspark.sql.types import *\n",
    "\n",
    "from pyspark.ml.regression import LinearRegression, RandomForestRegressor\n",
    "from pyspark.ml.classification import DecisionTreeClassifier, NaiveBayes\n",
    "from pyspark.ml.evaluation import RegressionEvaluator, BinaryClassificationEvaluator, MulticlassClassificationEvaluator\n",
    "from pyspark.ml.feature import VectorAssembler, RFormula\n",
    "from pyspark.ml import Pipeline\n",
    "\n",
    "import os\n",
    "import sys\n",
    "import shutil\n",
    "\n",
    "os.environ['PYSPARK_PYTHON'] = sys.executable"
   ]
  },
  {
   "cell_type": "markdown",
   "id": "0befb38c",
   "metadata": {},
   "source": [
    "## Machine Learning com Spark\n",
    "\n",
    "* spark.mllib\n",
    "* spark.ml\n",
    "\n",
    "* ML baseado em RDD está descontinuado\n",
    "* Implementações todas em DataFrames\n",
    "\n",
    "Tradicionalmente:\n",
    "* Variáveis independentes são colunas distintas\n",
    "* Variável dependente: outra coluna\n",
    "\n",
    "No spark:\n",
    "* Normalmente todas as variáveis independentes devem compor uma mesma coluna\n",
    "* Cria-se um vetor único, que é adicionado em nova coluna no DataFrame\n",
    "* Machine Learning suporta apenas número\n",
    "    * Atributos categóricos devem ser transformados (encoding)\n",
    "    * OneHot Encoding utiliza uma matriz esparsa\n",
    "* Fórmulas do R\n",
    "    * R permite definir modelo através de fórmula\n",
    "    * [variável dependente] ~ [variáveis independentes]\n",
    "    * Ponto define todos os atributos - variável dependente\n",
    "    * Spark implementa Rformula\n",
    "        * Aplica One Hot Encoding e combina variáveis independentes em uma única coluna\n",
    "* Pipelines\n",
    "    * Transformer: transforma um DataFrame em outro DataFrame\n",
    "    * Estimator: fit em DataFrame para produzir um Transformer\n",
    "    * Pipeline: conecta Transformers e Estimators para produzir modelo\n",
    "    * Parâmetros: Transformers e Estimators compartilham um API para definir parâmetros"
   ]
  },
  {
   "cell_type": "markdown",
   "id": "4fd923bb",
   "metadata": {},
   "source": [
    "### Preparando Dados para Regressão"
   ]
  },
  {
   "cell_type": "code",
   "execution_count": 2,
   "id": "04a994f7",
   "metadata": {},
   "outputs": [],
   "source": [
    "# criando sessão do spark\n",
    "spark = SparkSession.builder \\\n",
    "    .appName(\"Curso Pyspark\") \\\n",
    "    .getOrCreate()"
   ]
  },
  {
   "cell_type": "code",
   "execution_count": 3,
   "id": "775585b7",
   "metadata": {},
   "outputs": [
    {
     "name": "stdout",
     "output_type": "stream",
     "text": [
      "+-------+---------+-----------+---------------+----+-----+---------+-----------+-------+-----------+---+\n",
      "|Consumo|Cilindros|Cilindradas|RelEixoTraseiro|Peso|Tempo|TipoMotor|Transmissao|Marchas|Carburadors| HP|\n",
      "+-------+---------+-----------+---------------+----+-----+---------+-----------+-------+-----------+---+\n",
      "|     21|        6|        160|             39| 262| 1646|        0|          1|      4|          4|110|\n",
      "|     21|        6|        160|             39|2875| 1702|        0|          1|      4|          4|110|\n",
      "|    228|        4|        108|            385| 232| 1861|        1|          1|      4|          1| 93|\n",
      "|    214|        6|        258|            308|3215| 1944|        1|          0|      3|          1|110|\n",
      "|    187|        8|        360|            315| 344| 1702|        0|          0|      3|          2|175|\n",
      "+-------+---------+-----------+---------------+----+-----+---------+-----------+-------+-----------+---+\n",
      "only showing top 5 rows\n",
      "\n"
     ]
    }
   ],
   "source": [
    "# importando dados - prever potencia de carro (HP)\n",
    "carros_temp = spark.read.csv('../data/Carros.csv', inferSchema = True, header = True, sep = ';')\n",
    "carros_temp.show(5)"
   ]
  },
  {
   "cell_type": "code",
   "execution_count": 4,
   "id": "ffe67382",
   "metadata": {},
   "outputs": [
    {
     "name": "stdout",
     "output_type": "stream",
     "text": [
      "+-------+---------+-----------+---+\n",
      "|Consumo|Cilindros|Cilindradas| HP|\n",
      "+-------+---------+-----------+---+\n",
      "|     21|        6|        160|110|\n",
      "|     21|        6|        160|110|\n",
      "|    228|        4|        108| 93|\n",
      "|    214|        6|        258|110|\n",
      "|    187|        8|        360|175|\n",
      "+-------+---------+-----------+---+\n",
      "only showing top 5 rows\n",
      "\n"
     ]
    }
   ],
   "source": [
    "carros = carros_temp.select('Consumo', 'Cilindros', 'Cilindradas', 'HP')\n",
    "carros.show(5)"
   ]
  },
  {
   "cell_type": "code",
   "execution_count": 5,
   "id": "b3edd50c",
   "metadata": {},
   "outputs": [],
   "source": [
    "# criando vetor para treinar modelo\n",
    "veccaracteristicas = VectorAssembler(inputCols = ['Consumo', 'Cilindros', 'Cilindradas'], outputCol = 'caracteristicas')"
   ]
  },
  {
   "cell_type": "code",
   "execution_count": 6,
   "id": "03df6757",
   "metadata": {},
   "outputs": [
    {
     "name": "stdout",
     "output_type": "stream",
     "text": [
      "+-------+---------+-----------+---+-----------------+\n",
      "|Consumo|Cilindros|Cilindradas| HP|  caracteristicas|\n",
      "+-------+---------+-----------+---+-----------------+\n",
      "|     21|        6|        160|110| [21.0,6.0,160.0]|\n",
      "|     21|        6|        160|110| [21.0,6.0,160.0]|\n",
      "|    228|        4|        108| 93|[228.0,4.0,108.0]|\n",
      "|    214|        6|        258|110|[214.0,6.0,258.0]|\n",
      "|    187|        8|        360|175|[187.0,8.0,360.0]|\n",
      "+-------+---------+-----------+---+-----------------+\n",
      "only showing top 5 rows\n",
      "\n"
     ]
    }
   ],
   "source": [
    "# transformando DataFrame carros em um vetor\n",
    "carros_carac = veccaracteristicas.transform(carros)\n",
    "carros_carac.show(5)"
   ]
  },
  {
   "cell_type": "code",
   "execution_count": 7,
   "id": "11cfb830",
   "metadata": {},
   "outputs": [
    {
     "name": "stdout",
     "output_type": "stream",
     "text": [
      "23\n",
      "9\n"
     ]
    }
   ],
   "source": [
    "# separacao treino teste\n",
    "carros_treino, carros_teste = carros_carac.randomSplit([0.7, 0.3], seed = 24)\n",
    "print(carros_treino.count())\n",
    "print(carros_teste.count())"
   ]
  },
  {
   "cell_type": "markdown",
   "id": "cc07b3c3",
   "metadata": {},
   "source": [
    "### Regressão Linear"
   ]
  },
  {
   "cell_type": "code",
   "execution_count": 8,
   "id": "119facac",
   "metadata": {},
   "outputs": [],
   "source": [
    "# criando e treinando modelo de regressão linear\n",
    "reglin = LinearRegression(featuresCol = 'caracteristicas', labelCol = 'HP')\n",
    "modelo = reglin.fit(carros_treino)"
   ]
  },
  {
   "cell_type": "code",
   "execution_count": 9,
   "id": "4bad796a",
   "metadata": {},
   "outputs": [
    {
     "name": "stdout",
     "output_type": "stream",
     "text": [
      "+-------+---------+-----------+---+------------------+------------------+\n",
      "|Consumo|Cilindros|Cilindradas| HP|   caracteristicas|        prediction|\n",
      "+-------+---------+-----------+---+------------------+------------------+\n",
      "|    143|        8|        360|245| [143.0,8.0,360.0]|211.74015872646999|\n",
      "|    152|        8|        304|150| [152.0,8.0,304.0]|211.17070861674188|\n",
      "|    164|        8|       2758|180|[164.0,8.0,2758.0]|203.57816690948073|\n",
      "|    173|        8|       2758|180|[173.0,8.0,2758.0]|202.85738669399979|\n",
      "|    192|        6|       1676|123|[192.0,6.0,1676.0]|138.76957605968335|\n",
      "+-------+---------+-----------+---+------------------+------------------+\n",
      "only showing top 5 rows\n",
      "\n"
     ]
    }
   ],
   "source": [
    "# predict dos dados de teste\n",
    "previsao = modelo.transform(carros_teste)\n",
    "previsao.show(5)"
   ]
  },
  {
   "cell_type": "markdown",
   "id": "86db97db",
   "metadata": {},
   "source": [
    "### Avaliação da Regressão Linear"
   ]
  },
  {
   "cell_type": "code",
   "execution_count": 10,
   "id": "dcf079d5",
   "metadata": {},
   "outputs": [
    {
     "name": "stdout",
     "output_type": "stream",
     "text": [
      "32.33357364996903\n"
     ]
    }
   ],
   "source": [
    "# avaliando performance do modelo\n",
    "avaliar = RegressionEvaluator(predictionCol = 'prediction', labelCol ='HP', metricName = 'rmse')\n",
    "rmse = avaliar.evaluate(previsao)\n",
    "print(rmse)"
   ]
  },
  {
   "cell_type": "markdown",
   "id": "54218608",
   "metadata": {},
   "source": [
    "### Random Forest Regressor"
   ]
  },
  {
   "cell_type": "code",
   "execution_count": 11,
   "id": "d9c693f1",
   "metadata": {},
   "outputs": [],
   "source": [
    "# treinando random forest\n",
    "rfreg = RandomForestRegressor(featuresCol = 'caracteristicas', labelCol = 'HP')\n",
    "modelo2 = rfreg.fit(carros_treino)"
   ]
  },
  {
   "cell_type": "code",
   "execution_count": 12,
   "id": "957700a8",
   "metadata": {},
   "outputs": [
    {
     "name": "stdout",
     "output_type": "stream",
     "text": [
      "+-------+---------+-----------+---+------------------+------------------+\n",
      "|Consumo|Cilindros|Cilindradas| HP|   caracteristicas|        prediction|\n",
      "+-------+---------+-----------+---+------------------+------------------+\n",
      "|    143|        8|        360|245| [143.0,8.0,360.0]|215.63652777777776|\n",
      "|    152|        8|        304|150| [152.0,8.0,304.0]|236.51748015873017|\n",
      "|    164|        8|       2758|180|[164.0,8.0,2758.0]|190.35666666666668|\n",
      "|    173|        8|       2758|180|[173.0,8.0,2758.0]| 187.5066666666667|\n",
      "|    192|        6|       1676|123|[192.0,6.0,1676.0]|116.34166666666667|\n",
      "+-------+---------+-----------+---+------------------+------------------+\n",
      "only showing top 5 rows\n",
      "\n"
     ]
    }
   ],
   "source": [
    "# predict dos dados de teste\n",
    "previsao2 = modelo2.transform(carros_teste)\n",
    "previsao2.show(5)"
   ]
  },
  {
   "cell_type": "markdown",
   "id": "85f23056",
   "metadata": {},
   "source": [
    "### Avaliação da Random Forest Regressor"
   ]
  },
  {
   "cell_type": "code",
   "execution_count": 13,
   "id": "998a0fef",
   "metadata": {},
   "outputs": [
    {
     "name": "stdout",
     "output_type": "stream",
     "text": [
      "39.92372972016067\n"
     ]
    }
   ],
   "source": [
    "# avaliando performance do modelo\n",
    "rmse = avaliar.evaluate(previsao2)\n",
    "print(rmse)"
   ]
  },
  {
   "cell_type": "markdown",
   "id": "5ea771c7",
   "metadata": {},
   "source": [
    "### Preparando dados para Classificação"
   ]
  },
  {
   "cell_type": "code",
   "execution_count": 14,
   "id": "0a6e0eb0",
   "metadata": {},
   "outputs": [
    {
     "name": "stdout",
     "output_type": "stream",
     "text": [
      "+-----------+---------+------+---+------+--------+-------------+---------+--------------+---------------+------+\n",
      "|CreditScore|Geography|Gender|Age|Tenure| Balance|NumOfProducts|HasCrCard|IsActiveMember|EstimatedSalary|Exited|\n",
      "+-----------+---------+------+---+------+--------+-------------+---------+--------------+---------------+------+\n",
      "|        619|   France|Female| 42|     2|       0|            1|        1|             1|       10134888|     1|\n",
      "|        608|    Spain|Female| 41|     1| 8380786|            1|        0|             1|       11254258|     0|\n",
      "|        502|   France|Female| 42|     8| 1596608|            3|        1|             0|       11393157|     1|\n",
      "|        699|   France|Female| 39|     1|       0|            2|        0|             0|        9382663|     0|\n",
      "|        850|    Spain|Female| 43|     2|12551082|            1|        1|             1|         790841|     0|\n",
      "+-----------+---------+------+---+------+--------+-------------+---------+--------------+---------------+------+\n",
      "only showing top 5 rows\n",
      "\n"
     ]
    }
   ],
   "source": [
    "# importando dados - prever churn de clientes (Exited)\n",
    "churn = spark.read.csv('../data/Churn.csv', inferSchema = True, header = True, sep = ';')\n",
    "churn.show(5)"
   ]
  },
  {
   "cell_type": "code",
   "execution_count": 15,
   "id": "6df9ec73",
   "metadata": {},
   "outputs": [],
   "source": [
    "# criando RFormula para modelo\n",
    "formula = RFormula(formula = 'Exited ~ .', featuresCol = 'features', labelCol = 'label', handleInvalid = 'skip')"
   ]
  },
  {
   "cell_type": "code",
   "execution_count": 16,
   "id": "046e8f44",
   "metadata": {},
   "outputs": [
    {
     "name": "stdout",
     "output_type": "stream",
     "text": [
      "+--------------------------------------------------------------+-----+\n",
      "|features                                                      |label|\n",
      "+--------------------------------------------------------------+-----+\n",
      "|[619.0,1.0,0.0,0.0,42.0,2.0,0.0,1.0,1.0,1.0,1.0134888E7]      |1.0  |\n",
      "|[608.0,0.0,0.0,0.0,41.0,1.0,8380786.0,1.0,0.0,1.0,1.1254258E7]|0.0  |\n",
      "|[502.0,1.0,0.0,0.0,42.0,8.0,1596608.0,3.0,1.0,0.0,1.1393157E7]|1.0  |\n",
      "|(11,[0,1,4,5,7,10],[699.0,1.0,39.0,1.0,2.0,9382663.0])        |0.0  |\n",
      "|[850.0,0.0,0.0,0.0,43.0,2.0,1.2551082E7,1.0,1.0,1.0,790841.0] |0.0  |\n",
      "+--------------------------------------------------------------+-----+\n",
      "only showing top 5 rows\n",
      "\n"
     ]
    }
   ],
   "source": [
    "# criando transformacao para treinar modelo\n",
    "churn_trans = formula.fit(churn).transform(churn).select('features', 'label')\n",
    "churn_trans.show(5, truncate = False)"
   ]
  },
  {
   "cell_type": "code",
   "execution_count": 17,
   "id": "8194d358",
   "metadata": {},
   "outputs": [
    {
     "name": "stdout",
     "output_type": "stream",
     "text": [
      "6982\n",
      "3018\n"
     ]
    }
   ],
   "source": [
    "# separacao treino teste\n",
    "churn_treino, churn_teste = churn_trans.randomSplit([0.7, 0.3], seed = 24)\n",
    "print(churn_treino.count())\n",
    "print(churn_teste.count())"
   ]
  },
  {
   "cell_type": "markdown",
   "id": "2250b0cf",
   "metadata": {},
   "source": [
    "### Árvore de Decisão"
   ]
  },
  {
   "cell_type": "code",
   "execution_count": 18,
   "id": "8cb52523",
   "metadata": {},
   "outputs": [],
   "source": [
    "# criando e treinando modelo de árvore de decisão\n",
    "dt = DecisionTreeClassifier(labelCol = 'label', featuresCol = 'features')\n",
    "modelo = dt.fit(churn_treino)"
   ]
  },
  {
   "cell_type": "code",
   "execution_count": 19,
   "id": "8d82c98d",
   "metadata": {},
   "outputs": [
    {
     "name": "stdout",
     "output_type": "stream",
     "text": [
      "+--------------------+-----+--------------+--------------------+----------+\n",
      "|            features|label| rawPrediction|         probability|prediction|\n",
      "+--------------------+-----+--------------+--------------------+----------+\n",
      "|(11,[0,1,4,5,7,10...|  0.0|[4637.0,606.0]|[0.88441731832920...|       0.0|\n",
      "|(11,[0,1,4,5,7,10...|  0.0|[4637.0,606.0]|[0.88441731832920...|       0.0|\n",
      "|(11,[0,1,4,5,7,10...|  0.0|[4637.0,606.0]|[0.88441731832920...|       0.0|\n",
      "|(11,[0,1,4,5,7,10...|  0.0|[4637.0,606.0]|[0.88441731832920...|       0.0|\n",
      "|(11,[0,1,4,5,7,10...|  0.0|[4637.0,606.0]|[0.88441731832920...|       0.0|\n",
      "+--------------------+-----+--------------+--------------------+----------+\n",
      "only showing top 5 rows\n",
      "\n"
     ]
    }
   ],
   "source": [
    "# predict dos dados de teste\n",
    "previsao = modelo.transform(churn_teste)\n",
    "previsao.show(5)"
   ]
  },
  {
   "cell_type": "markdown",
   "id": "53d247ca",
   "metadata": {},
   "source": [
    "### Avaliação da Árvore de Decisão"
   ]
  },
  {
   "cell_type": "code",
   "execution_count": 20,
   "id": "dae45f6f",
   "metadata": {},
   "outputs": [
    {
     "name": "stdout",
     "output_type": "stream",
     "text": [
      "0.6912937265638351\n"
     ]
    }
   ],
   "source": [
    "# avaliando performance do modelo\n",
    "avaliar = BinaryClassificationEvaluator(rawPredictionCol = 'prediction', labelCol ='label', metricName = 'areaUnderROC')\n",
    "auc_roc = avaliar.evaluate(previsao)\n",
    "print(auc_roc)"
   ]
  },
  {
   "cell_type": "markdown",
   "id": "eca9bd7b",
   "metadata": {},
   "source": [
    "### Pipelines"
   ]
  },
  {
   "cell_type": "code",
   "execution_count": 22,
   "id": "d029615e",
   "metadata": {},
   "outputs": [],
   "source": [
    "# criando pipeline\n",
    "pipeline = Pipeline(stages = [veccaracteristicas, reglin])\n",
    "pipelineModel = pipeline.fit(carros)"
   ]
  },
  {
   "cell_type": "code",
   "execution_count": 25,
   "id": "3f230088",
   "metadata": {},
   "outputs": [
    {
     "name": "stdout",
     "output_type": "stream",
     "text": [
      "+-------+---------+-----------+---+-----------------+------------------+\n",
      "|Consumo|Cilindros|Cilindradas| HP|  caracteristicas|        prediction|\n",
      "+-------+---------+-----------+---+-----------------+------------------+\n",
      "|     21|        6|        160|110| [21.0,6.0,160.0]|162.32154816816646|\n",
      "|     21|        6|        160|110| [21.0,6.0,160.0]|162.32154816816646|\n",
      "|    228|        4|        108| 93|[228.0,4.0,108.0]| 82.51715587712931|\n",
      "|    214|        6|        258|110|[214.0,6.0,258.0]|141.86680518718754|\n",
      "|    187|        8|        360|175|[187.0,8.0,360.0]|202.93528239714834|\n",
      "+-------+---------+-----------+---+-----------------+------------------+\n",
      "only showing top 5 rows\n",
      "\n"
     ]
    }
   ],
   "source": [
    "# previsao a partir da pipeline\n",
    "previsao = pipelineModel.transform(carros)\n",
    "previsao.show(5)"
   ]
  },
  {
   "cell_type": "markdown",
   "id": "9fd4381d",
   "metadata": {},
   "source": [
    "### Faça Você Mesmo - Iris\n",
    "\n",
    "1. Classe é a coluna class, portando Multiclass\n",
    "2. Utilize MulticlassClassificationEvaluator\n",
    "3. Use accuracy como métrica\n",
    "4. Use um classificador diferente, como Naive Bayes"
   ]
  },
  {
   "cell_type": "code",
   "execution_count": 27,
   "id": "dee6b64e",
   "metadata": {},
   "outputs": [
    {
     "name": "stdout",
     "output_type": "stream",
     "text": [
      "+-----------+----------+-----------+----------+-----------+\n",
      "|sepallength|sepalwidth|petallength|petalwidth|      class|\n",
      "+-----------+----------+-----------+----------+-----------+\n",
      "|        5.1|       3.5|        1.4|       0.2|Iris-setosa|\n",
      "|        4.9|       3.0|        1.4|       0.2|Iris-setosa|\n",
      "|        4.7|       3.2|        1.3|       0.2|Iris-setosa|\n",
      "|        4.6|       3.1|        1.5|       0.2|Iris-setosa|\n",
      "|        5.0|       3.6|        1.4|       0.2|Iris-setosa|\n",
      "+-----------+----------+-----------+----------+-----------+\n",
      "only showing top 5 rows\n",
      "\n"
     ]
    }
   ],
   "source": [
    "# importando dados\n",
    "iris = spark.read.csv('../data/iris.csv', inferSchema = True, header = True)\n",
    "iris.show(5)"
   ]
  },
  {
   "cell_type": "code",
   "execution_count": 28,
   "id": "d4baed1d",
   "metadata": {},
   "outputs": [],
   "source": [
    "# RFormula\n",
    "formula = RFormula(formula = 'class ~ .', featuresCol = 'features', labelCol = 'label', handleInvalid = 'skip')"
   ]
  },
  {
   "cell_type": "code",
   "execution_count": 29,
   "id": "b9550f55",
   "metadata": {},
   "outputs": [
    {
     "name": "stdout",
     "output_type": "stream",
     "text": [
      "+-----------------+-----+\n",
      "|         features|label|\n",
      "+-----------------+-----+\n",
      "|[5.1,3.5,1.4,0.2]|  0.0|\n",
      "|[4.9,3.0,1.4,0.2]|  0.0|\n",
      "|[4.7,3.2,1.3,0.2]|  0.0|\n",
      "|[4.6,3.1,1.5,0.2]|  0.0|\n",
      "|[5.0,3.6,1.4,0.2]|  0.0|\n",
      "+-----------------+-----+\n",
      "only showing top 5 rows\n",
      "\n"
     ]
    }
   ],
   "source": [
    "# transformar dataframe\n",
    "iris_trans = formula.fit(iris).transform(iris).select('features', 'label')\n",
    "iris_trans.show(5)"
   ]
  },
  {
   "cell_type": "code",
   "execution_count": 34,
   "id": "879e0acb",
   "metadata": {},
   "outputs": [
    {
     "name": "stdout",
     "output_type": "stream",
     "text": [
      "109\n",
      "41\n"
     ]
    }
   ],
   "source": [
    "# separação treino teste\n",
    "iris_treino, iris_teste = iris_trans.randomSplit([0.7, 0.3], seed = 24)\n",
    "print(iris_treino.count())\n",
    "print(iris_teste.count())"
   ]
  },
  {
   "cell_type": "code",
   "execution_count": 31,
   "id": "56604558",
   "metadata": {},
   "outputs": [],
   "source": [
    "# instanciando e treinando modelo\n",
    "nb = NaiveBayes(labelCol = 'label', featuresCol = 'features')\n",
    "modelo = nb.fit(iris_treino)"
   ]
  },
  {
   "cell_type": "code",
   "execution_count": 32,
   "id": "3603c3a7",
   "metadata": {},
   "outputs": [
    {
     "name": "stdout",
     "output_type": "stream",
     "text": [
      "+-----------------+-----+--------------------+--------------------+----------+\n",
      "|         features|label|       rawPrediction|         probability|prediction|\n",
      "+-----------------+-----+--------------------+--------------------+----------+\n",
      "|[4.6,3.4,1.4,0.3]|  0.0|[-11.837924235146...|[0.69884141410680...|       0.0|\n",
      "|[4.7,3.2,1.3,0.2]|  0.0|[-11.138653607079...|[0.72109386097880...|       0.0|\n",
      "|[4.8,3.1,1.6,0.2]|  0.0|[-11.680129423086...|[0.66513735163144...|       0.0|\n",
      "|[4.8,3.4,1.6,0.2]|  0.0|[-12.007508953877...|[0.70317499282180...|       0.0|\n",
      "|[4.9,3.0,1.4,0.2]|  0.0|[-11.255581098090...|[0.68938763985519...|       0.0|\n",
      "+-----------------+-----+--------------------+--------------------+----------+\n",
      "only showing top 5 rows\n",
      "\n"
     ]
    }
   ],
   "source": [
    "# previsao\n",
    "previsao = modelo.transform(iris_teste)\n",
    "previsao.show(5)"
   ]
  },
  {
   "cell_type": "code",
   "execution_count": 33,
   "id": "ca2a24a9",
   "metadata": {},
   "outputs": [
    {
     "name": "stdout",
     "output_type": "stream",
     "text": [
      "0.975609756097561\n"
     ]
    }
   ],
   "source": [
    "# validação do modelo\n",
    "avaliar = MulticlassClassificationEvaluator(predictionCol = 'prediction', labelCol = 'label', metricName = 'accuracy')\n",
    "resultado = avaliar.evaluate(previsao)\n",
    "print(resultado)"
   ]
  },
  {
   "cell_type": "code",
   "execution_count": null,
   "id": "a03e96f1",
   "metadata": {},
   "outputs": [],
   "source": []
  }
 ],
 "metadata": {
  "kernelspec": {
   "display_name": "Python 3",
   "language": "python",
   "name": "python3"
  },
  "language_info": {
   "codemirror_mode": {
    "name": "ipython",
    "version": 3
   },
   "file_extension": ".py",
   "mimetype": "text/x-python",
   "name": "python",
   "nbconvert_exporter": "python",
   "pygments_lexer": "ipython3",
   "version": "3.7.6"
  }
 },
 "nbformat": 4,
 "nbformat_minor": 5
}
