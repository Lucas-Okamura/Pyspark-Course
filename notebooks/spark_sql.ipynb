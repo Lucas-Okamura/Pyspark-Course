{
 "cells": [
  {
   "cell_type": "markdown",
   "id": "5f303559-e6f0-4d5f-bb13-e034ae9eead3",
   "metadata": {},
   "source": [
    "# Formação Spark com Pyspark: o Curso Completo\n",
    "\n",
    "## Seção 4: Spark SQL\n",
    "\n",
    "Curso da Udemy."
   ]
  },
  {
   "cell_type": "code",
   "execution_count": 1,
   "id": "8856aa24-0b97-4f4a-acbc-6eea63e76417",
   "metadata": {},
   "outputs": [],
   "source": [
    "from pyspark.sql import SparkSession\n",
    "from pyspark.sql import functions as Func\n",
    "from pyspark.sql.types import *\n",
    "import os\n",
    "import sys\n",
    "import shutil\n",
    "\n",
    "os.environ['PYSPARK_PYTHON'] = sys.executable"
   ]
  },
  {
   "cell_type": "markdown",
   "id": "48d0d5f3-d4d7-4e7f-b989-91923429c763",
   "metadata": {},
   "source": [
    "## Spark SQL\n",
    "\n",
    "**Tabela**\n",
    "\n",
    "* Persistente\n",
    "* Objeto tabular que reside em um banco de dados\n",
    "* Pode ser gerenciado e consultado utilizando SQL\n",
    "* Totalmente interoperável com DataFrame\n",
    "* Ex: Você pode transformar um DataFrame que importamos (parquet, json, orc, csv) em uma tabela\n",
    "* Gerenciadas: Spark gerencia dados e metadados\n",
    "    * Armazenadas no warehouse do spark\n",
    "    * Se excluirmos, tudo é apagado (dados e metadados)\n",
    "* Não Gerenciadas (External): Spark apenas gerencia metadados\n",
    "    * Informamos onde a tabela está (arquivo, por exemplo, orc)\n",
    "    * Se excluirmos, Spark só exclui os metadados, dados permanecem onde estavam\n",
    "\n",
    "**Views**\n",
    "\n",
    "* Mesmo conceito de banco de dados relacionais\n",
    "* São um \"alias\" para uma tabela (por exemplo, vendas_rs pode mostrar vendas do estado já com filtro aplicado)\n",
    "* Não contém dados\n",
    "* Globais: visíveis em todas as sessões\n",
    "* Sessão: visíveis apenas na própria sessão\n",
    "\n",
    "## Bancos de Dados e Tabelas"
   ]
  },
  {
   "cell_type": "code",
   "execution_count": 2,
   "id": "a7de28b4-78ce-4856-8c88-8a34a80250be",
   "metadata": {},
   "outputs": [],
   "source": [
    "warehouse_location = os.path.abspath('spark-warehouse')\n",
    "\n",
    "# instanciando SparkSession\n",
    "spark = SparkSession.builder \\\n",
    "    .appName(\"Curso Pyspark\") \\\n",
    "    .getOrCreate()"
   ]
  },
  {
   "cell_type": "code",
   "execution_count": 3,
   "id": "07a98b77-e63c-45c0-b2f7-65aba1bffc1f",
   "metadata": {},
   "outputs": [
    {
     "name": "stdout",
     "output_type": "stream",
     "text": [
      "+---------+\n",
      "|namespace|\n",
      "+---------+\n",
      "|  default|\n",
      "+---------+\n",
      "\n"
     ]
    }
   ],
   "source": [
    "# comando SQL para mostrar todos databases\n",
    "spark.sql(\"show databases\").show()"
   ]
  },
  {
   "cell_type": "code",
   "execution_count": 4,
   "id": "fb0126a9-c12c-498f-911d-233eb4243556",
   "metadata": {},
   "outputs": [
    {
     "name": "stdout",
     "output_type": "stream",
     "text": [
      "+---------+\n",
      "|namespace|\n",
      "+---------+\n",
      "|  default|\n",
      "|     desp|\n",
      "+---------+\n",
      "\n"
     ]
    }
   ],
   "source": [
    "# criar database\n",
    "spark.sql(\"create database desp\")\n",
    "spark.sql(\"show databases\").show()"
   ]
  },
  {
   "cell_type": "code",
   "execution_count": 5,
   "id": "fd74c5c1-46e2-4dba-9419-6addc427d4bb",
   "metadata": {},
   "outputs": [
    {
     "data": {
      "text/plain": [
       "DataFrame[]"
      ]
     },
     "execution_count": 5,
     "metadata": {},
     "output_type": "execute_result"
    }
   ],
   "source": [
    "# utilizar database desp para futuros comandos\n",
    "spark.sql(\"use desp\")"
   ]
  },
  {
   "cell_type": "code",
   "execution_count": 6,
   "id": "44247047-69a7-43f3-9e03-26bdd815c514",
   "metadata": {},
   "outputs": [
    {
     "name": "stdout",
     "output_type": "stream",
     "text": [
      "+---------+---------+-----------+\n",
      "|namespace|tableName|isTemporary|\n",
      "+---------+---------+-----------+\n",
      "+---------+---------+-----------+\n",
      "\n"
     ]
    }
   ],
   "source": [
    "spark.sql(\"show tables\").show()"
   ]
  },
  {
   "cell_type": "code",
   "execution_count": 7,
   "id": "23014caa-f923-4ad2-a89d-a47f374bddf8",
   "metadata": {},
   "outputs": [
    {
     "name": "stdout",
     "output_type": "stream",
     "text": [
      "+---+-------------------+------+-------------+------+----------+\n",
      "| id|               nome|status|       cidade|vendas|      data|\n",
      "+---+-------------------+------+-------------+------+----------+\n",
      "|  1|   Carminda Pestana| Ativo|  Santa Maria|    23|2020-08-11|\n",
      "|  2|    Deolinda Vilela| Ativo|Novo Hamburgo|    34|2020-03-05|\n",
      "|  3|   Emídio Dornelles| Ativo| Porto Alegre|    34|2020-02-05|\n",
      "|  4|Felisbela Dornelles| Ativo| Porto Alegre|    36|2020-02-05|\n",
      "|  5|     Graça Ornellas| Ativo| Porto Alegre|    12|2020-02-05|\n",
      "|  6|   Matilde Rebouças| Ativo| Porto Alegre|    22|2019-01-05|\n",
      "|  7|    Noêmia   Orriça| Ativo|  Santa Maria|    45|2019-10-05|\n",
      "|  8|      Roque Vásquez| Ativo| Porto Alegre|    65|2020-03-05|\n",
      "|  9|      Uriel Queiroz| Ativo| Porto Alegre|    54|2018-05-05|\n",
      "| 10|   Viviana Sequeira| Ativo| Porto Alegre|     0|2020-09-05|\n",
      "+---+-------------------+------+-------------+------+----------+\n",
      "\n"
     ]
    }
   ],
   "source": [
    "# especificando schema e lendo csv\n",
    "arqschema = \"id INT, nome STRING, status STRING, cidade STRING, vendas INT, data STRING\"\n",
    "despachantes = spark.read.csv(\"../data/despachantes.csv\", header = False, schema = arqschema)\n",
    "despachantes.show()"
   ]
  },
  {
   "cell_type": "code",
   "execution_count": 8,
   "id": "82963c03-d837-4562-91df-d09602099273",
   "metadata": {},
   "outputs": [],
   "source": [
    "# salvar dataframe no database\n",
    "dirpath = \"spark-warehouse\"\n",
    "if os.path.exists(dirpath) and os.path.isdir(dirpath):\n",
    "    shutil.rmtree(dirpath)\n",
    "    \n",
    "despachantes.write.mode('overwrite').saveAsTable('Despachantes')"
   ]
  },
  {
   "cell_type": "code",
   "execution_count": 9,
   "id": "80aabce5-b8ae-4ee1-b6bb-2c630bddb283",
   "metadata": {},
   "outputs": [
    {
     "name": "stdout",
     "output_type": "stream",
     "text": [
      "+---+-------------------+------+-------------+------+----------+\n",
      "| id|               nome|status|       cidade|vendas|      data|\n",
      "+---+-------------------+------+-------------+------+----------+\n",
      "|  1|   Carminda Pestana| Ativo|  Santa Maria|    23|2020-08-11|\n",
      "|  2|    Deolinda Vilela| Ativo|Novo Hamburgo|    34|2020-03-05|\n",
      "|  3|   Emídio Dornelles| Ativo| Porto Alegre|    34|2020-02-05|\n",
      "|  4|Felisbela Dornelles| Ativo| Porto Alegre|    36|2020-02-05|\n",
      "|  5|     Graça Ornellas| Ativo| Porto Alegre|    12|2020-02-05|\n",
      "|  6|   Matilde Rebouças| Ativo| Porto Alegre|    22|2019-01-05|\n",
      "|  7|    Noêmia   Orriça| Ativo|  Santa Maria|    45|2019-10-05|\n",
      "|  8|      Roque Vásquez| Ativo| Porto Alegre|    65|2020-03-05|\n",
      "|  9|      Uriel Queiroz| Ativo| Porto Alegre|    54|2018-05-05|\n",
      "| 10|   Viviana Sequeira| Ativo| Porto Alegre|     0|2020-09-05|\n",
      "+---+-------------------+------+-------------+------+----------+\n",
      "\n"
     ]
    }
   ],
   "source": [
    "# verificar se tabela foi carregada\n",
    "spark.sql('SELECT * FROM despachantes').show()"
   ]
  },
  {
   "cell_type": "code",
   "execution_count": 10,
   "id": "daa0e7f8-4bc1-4d4b-8ce0-438e0ea7e398",
   "metadata": {},
   "outputs": [],
   "source": [
    "# salvar tabela em parquet\n",
    "dirpath = \"../data/desparquet\"\n",
    "if os.path.exists(dirpath) and os.path.isdir(dirpath):\n",
    "    shutil.rmtree(dirpath)\n",
    "    \n",
    "despachantes.write.format('parquet').save(dirpath)"
   ]
  },
  {
   "cell_type": "code",
   "execution_count": 11,
   "id": "ab6b2115-e3b2-4c3c-a36b-e7912f6a9c00",
   "metadata": {},
   "outputs": [],
   "source": [
    "# salvar tabela em parquet\n",
    "dirpath = os.path.abspath('../data/desparquet_ng')\n",
    "if os.path.exists(dirpath) and os.path.isdir(dirpath):\n",
    "    shutil.rmtree(dirpath)\n",
    "    \n",
    "despachantes.write.mode('overwrite').option('path', dirpath).saveAsTable(\"Despachantes_ng\")"
   ]
  },
  {
   "cell_type": "code",
   "execution_count": 12,
   "id": "1ad1e414-60cb-42fe-96a8-54168b050b4a",
   "metadata": {},
   "outputs": [
    {
     "name": "stdout",
     "output_type": "stream",
     "text": [
      "+---+-------------------+------+-------------+------+----------+\n",
      "| id|               nome|status|       cidade|vendas|      data|\n",
      "+---+-------------------+------+-------------+------+----------+\n",
      "|  1|   Carminda Pestana| Ativo|  Santa Maria|    23|2020-08-11|\n",
      "|  2|    Deolinda Vilela| Ativo|Novo Hamburgo|    34|2020-03-05|\n",
      "|  3|   Emídio Dornelles| Ativo| Porto Alegre|    34|2020-02-05|\n",
      "|  4|Felisbela Dornelles| Ativo| Porto Alegre|    36|2020-02-05|\n",
      "|  5|     Graça Ornellas| Ativo| Porto Alegre|    12|2020-02-05|\n",
      "|  6|   Matilde Rebouças| Ativo| Porto Alegre|    22|2019-01-05|\n",
      "|  7|    Noêmia   Orriça| Ativo|  Santa Maria|    45|2019-10-05|\n",
      "|  8|      Roque Vásquez| Ativo| Porto Alegre|    65|2020-03-05|\n",
      "|  9|      Uriel Queiroz| Ativo| Porto Alegre|    54|2018-05-05|\n",
      "| 10|   Viviana Sequeira| Ativo| Porto Alegre|     0|2020-09-05|\n",
      "+---+-------------------+------+-------------+------+----------+\n",
      "\n"
     ]
    }
   ],
   "source": [
    "spark.sql(\"select * from despachantes_ng\").show()"
   ]
  },
  {
   "cell_type": "code",
   "execution_count": 13,
   "id": "f11bf4a3-0b73-4928-80fe-a4aa48bf3149",
   "metadata": {},
   "outputs": [
    {
     "name": "stdout",
     "output_type": "stream",
     "text": [
      "+---------------------------------------------------------------------------------------------------------------------------------------------------------------+\n",
      "|createtab_stmt                                                                                                                                                 |\n",
      "+---------------------------------------------------------------------------------------------------------------------------------------------------------------+\n",
      "|CREATE TABLE `desp`.`Despachantes` (\\n  `id` INT,\\n  `nome` STRING,\\n  `status` STRING,\\n  `cidade` STRING,\\n  `vendas` INT,\\n  `data` STRING)\\nUSING parquet\\n|\n",
      "+---------------------------------------------------------------------------------------------------------------------------------------------------------------+\n",
      "\n"
     ]
    }
   ],
   "source": [
    "# tabela gerenciada\n",
    "spark.sql(\"show create table Despachantes\").show(truncate = False)"
   ]
  },
  {
   "cell_type": "code",
   "execution_count": 14,
   "id": "d3cd84d1-34fa-4248-b782-97492f136883",
   "metadata": {},
   "outputs": [
    {
     "name": "stdout",
     "output_type": "stream",
     "text": [
      "+--------------------------------------------------------------------------------------------------------------------------------------------------------------------------------------------------------------------------------+\n",
      "|createtab_stmt                                                                                                                                                                                                                  |\n",
      "+--------------------------------------------------------------------------------------------------------------------------------------------------------------------------------------------------------------------------------+\n",
      "|CREATE TABLE `desp`.`Despachantes_ng` (\\n  `id` INT,\\n  `nome` STRING,\\n  `status` STRING,\\n  `cidade` STRING,\\n  `vendas` INT,\\n  `data` STRING)\\nUSING parquet\\nLOCATION 'file:/D:/GitHub/Pyspark-Course/data/desparquet_ng'\\n|\n",
      "+--------------------------------------------------------------------------------------------------------------------------------------------------------------------------------------------------------------------------------+\n",
      "\n"
     ]
    }
   ],
   "source": [
    "# tabela externa\n",
    "spark.sql(\"show create table Despachantes_ng\").show(truncate = False)"
   ]
  },
  {
   "cell_type": "code",
   "execution_count": 15,
   "id": "63a60e28-92bd-4155-83e0-152c045aaa4d",
   "metadata": {},
   "outputs": [
    {
     "data": {
      "text/plain": [
       "[Table(name='despachantes', database='desp', description=None, tableType='MANAGED', isTemporary=False),\n",
       " Table(name='despachantes_ng', database='desp', description=None, tableType='EXTERNAL', isTemporary=False)]"
      ]
     },
     "execution_count": 15,
     "metadata": {},
     "output_type": "execute_result"
    }
   ],
   "source": [
    "# listando tabelas\n",
    "spark.catalog.listTables()"
   ]
  },
  {
   "cell_type": "markdown",
   "id": "60a753b8-ade0-452e-a157-59d20698782b",
   "metadata": {},
   "source": [
    "## Views"
   ]
  },
  {
   "cell_type": "code",
   "execution_count": 16,
   "id": "96c8698d-6728-4ae3-88f1-3e79490cb6b0",
   "metadata": {},
   "outputs": [
    {
     "name": "stdout",
     "output_type": "stream",
     "text": [
      "+---+-------------------+------+-------------+------+----------+\n",
      "| id|               nome|status|       cidade|vendas|      data|\n",
      "+---+-------------------+------+-------------+------+----------+\n",
      "|  1|   Carminda Pestana| Ativo|  Santa Maria|    23|2020-08-11|\n",
      "|  2|    Deolinda Vilela| Ativo|Novo Hamburgo|    34|2020-03-05|\n",
      "|  3|   Emídio Dornelles| Ativo| Porto Alegre|    34|2020-02-05|\n",
      "|  4|Felisbela Dornelles| Ativo| Porto Alegre|    36|2020-02-05|\n",
      "|  5|     Graça Ornellas| Ativo| Porto Alegre|    12|2020-02-05|\n",
      "|  6|   Matilde Rebouças| Ativo| Porto Alegre|    22|2019-01-05|\n",
      "|  7|    Noêmia   Orriça| Ativo|  Santa Maria|    45|2019-10-05|\n",
      "|  8|      Roque Vásquez| Ativo| Porto Alegre|    65|2020-03-05|\n",
      "|  9|      Uriel Queiroz| Ativo| Porto Alegre|    54|2018-05-05|\n",
      "| 10|   Viviana Sequeira| Ativo| Porto Alegre|     0|2020-09-05|\n",
      "+---+-------------------+------+-------------+------+----------+\n",
      "\n"
     ]
    }
   ],
   "source": [
    "# criar view 1\n",
    "despachantes.createOrReplaceTempView('Despachantes_view1')\n",
    "spark.sql('select * from Despachantes_view1').show()"
   ]
  },
  {
   "cell_type": "code",
   "execution_count": 17,
   "id": "bd9c425a-e569-4e5c-bd02-7e5ced7f8e08",
   "metadata": {},
   "outputs": [
    {
     "name": "stdout",
     "output_type": "stream",
     "text": [
      "+---+-------------------+------+-------------+------+----------+\n",
      "| id|               nome|status|       cidade|vendas|      data|\n",
      "+---+-------------------+------+-------------+------+----------+\n",
      "|  1|   Carminda Pestana| Ativo|  Santa Maria|    23|2020-08-11|\n",
      "|  2|    Deolinda Vilela| Ativo|Novo Hamburgo|    34|2020-03-05|\n",
      "|  3|   Emídio Dornelles| Ativo| Porto Alegre|    34|2020-02-05|\n",
      "|  4|Felisbela Dornelles| Ativo| Porto Alegre|    36|2020-02-05|\n",
      "|  5|     Graça Ornellas| Ativo| Porto Alegre|    12|2020-02-05|\n",
      "|  6|   Matilde Rebouças| Ativo| Porto Alegre|    22|2019-01-05|\n",
      "|  7|    Noêmia   Orriça| Ativo|  Santa Maria|    45|2019-10-05|\n",
      "|  8|      Roque Vásquez| Ativo| Porto Alegre|    65|2020-03-05|\n",
      "|  9|      Uriel Queiroz| Ativo| Porto Alegre|    54|2018-05-05|\n",
      "| 10|   Viviana Sequeira| Ativo| Porto Alegre|     0|2020-09-05|\n",
      "+---+-------------------+------+-------------+------+----------+\n",
      "\n"
     ]
    }
   ],
   "source": [
    "# criar view global 2\n",
    "despachantes.createOrReplaceGlobalTempView('Despachantes_view2')\n",
    "spark.sql('select * from global_temp.Despachantes_view2').show()"
   ]
  },
  {
   "cell_type": "code",
   "execution_count": 20,
   "id": "175f48b7-bd45-4a34-8ca7-807231eab7b6",
   "metadata": {},
   "outputs": [
    {
     "name": "stdout",
     "output_type": "stream",
     "text": [
      "+---+-------------------+------+-------------+------+----------+\n",
      "| id|               nome|status|       cidade|vendas|      data|\n",
      "+---+-------------------+------+-------------+------+----------+\n",
      "|  1|   Carminda Pestana| Ativo|  Santa Maria|    23|2020-08-11|\n",
      "|  2|    Deolinda Vilela| Ativo|Novo Hamburgo|    34|2020-03-05|\n",
      "|  3|   Emídio Dornelles| Ativo| Porto Alegre|    34|2020-02-05|\n",
      "|  4|Felisbela Dornelles| Ativo| Porto Alegre|    36|2020-02-05|\n",
      "|  5|     Graça Ornellas| Ativo| Porto Alegre|    12|2020-02-05|\n",
      "|  6|   Matilde Rebouças| Ativo| Porto Alegre|    22|2019-01-05|\n",
      "|  7|    Noêmia   Orriça| Ativo|  Santa Maria|    45|2019-10-05|\n",
      "|  8|      Roque Vásquez| Ativo| Porto Alegre|    65|2020-03-05|\n",
      "|  9|      Uriel Queiroz| Ativo| Porto Alegre|    54|2018-05-05|\n",
      "| 10|   Viviana Sequeira| Ativo| Porto Alegre|     0|2020-09-05|\n",
      "+---+-------------------+------+-------------+------+----------+\n",
      "\n"
     ]
    }
   ],
   "source": [
    "# criar view a partir de comando SQL\n",
    "spark.sql('CREATE OR REPLACE TEMP VIEW DESP_VIEW AS select * from despachantes')\n",
    "spark.sql('select * from DESP_VIEW').show()"
   ]
  },
  {
   "cell_type": "code",
   "execution_count": 21,
   "id": "7e4f1aff-80e6-441e-ad1a-24671337687d",
   "metadata": {},
   "outputs": [
    {
     "name": "stdout",
     "output_type": "stream",
     "text": [
      "+---+-------------------+------+-------------+------+----------+\n",
      "| id|               nome|status|       cidade|vendas|      data|\n",
      "+---+-------------------+------+-------------+------+----------+\n",
      "|  1|   Carminda Pestana| Ativo|  Santa Maria|    23|2020-08-11|\n",
      "|  2|    Deolinda Vilela| Ativo|Novo Hamburgo|    34|2020-03-05|\n",
      "|  3|   Emídio Dornelles| Ativo| Porto Alegre|    34|2020-02-05|\n",
      "|  4|Felisbela Dornelles| Ativo| Porto Alegre|    36|2020-02-05|\n",
      "|  5|     Graça Ornellas| Ativo| Porto Alegre|    12|2020-02-05|\n",
      "|  6|   Matilde Rebouças| Ativo| Porto Alegre|    22|2019-01-05|\n",
      "|  7|    Noêmia   Orriça| Ativo|  Santa Maria|    45|2019-10-05|\n",
      "|  8|      Roque Vásquez| Ativo| Porto Alegre|    65|2020-03-05|\n",
      "|  9|      Uriel Queiroz| Ativo| Porto Alegre|    54|2018-05-05|\n",
      "| 10|   Viviana Sequeira| Ativo| Porto Alegre|     0|2020-09-05|\n",
      "+---+-------------------+------+-------------+------+----------+\n",
      "\n"
     ]
    }
   ],
   "source": [
    "# criar view global a partir de comando SQL\n",
    "spark.sql('CREATE OR REPLACE GLOBAL TEMP VIEW DESP_VIEW2 AS select * from despachantes')\n",
    "spark.sql('select * from global_temp.DESP_VIEW2').show()"
   ]
  },
  {
   "cell_type": "markdown",
   "id": "fc8f2684-b293-4dda-a073-1e01670a3225",
   "metadata": {},
   "source": [
    "## Joins"
   ]
  },
  {
   "cell_type": "code",
   "execution_count": 23,
   "id": "647bb524-2c5c-49b6-b4ef-317f25e32199",
   "metadata": {},
   "outputs": [
    {
     "name": "stdout",
     "output_type": "stream",
     "text": [
      "+-----+----------+------+\n",
      "|idrec|   datarec|iddesp|\n",
      "+-----+----------+------+\n",
      "|    1|2020-09-12|     2|\n",
      "|    2|2020-09-11|     2|\n",
      "|    3|2020-10-05|     4|\n",
      "|    4|2020-10-02|     5|\n",
      "|    5|2020-12-06|     5|\n",
      "|    6|2020-01-09|     5|\n",
      "|    7|2020-01-05|     9|\n",
      "+-----+----------+------+\n",
      "\n"
     ]
    }
   ],
   "source": [
    "# lendo tabela de reclamacoes\n",
    "recschema = 'idrec INT, datarec STRING, iddesp INT'\n",
    "reclamacoes = spark.read.csv('../data/reclamacoes.csv', header = False, schema = recschema)\n",
    "reclamacoes.show()"
   ]
  },
  {
   "cell_type": "code",
   "execution_count": 24,
   "id": "b196a0bc-e4ce-445a-9511-7e66f6442b92",
   "metadata": {},
   "outputs": [],
   "source": [
    "# criar tabela no database\n",
    "reclamacoes.write.saveAsTable('reclamacoes')"
   ]
  },
  {
   "cell_type": "code",
   "execution_count": 28,
   "id": "16f3149b-6dd6-4c28-9d6a-a3c9ec751636",
   "metadata": {},
   "outputs": [
    {
     "name": "stdout",
     "output_type": "stream",
     "text": [
      "+-----+----------+------+-------------------+\n",
      "|idrec|   datarec|iddesp|               nome|\n",
      "+-----+----------+------+-------------------+\n",
      "| null|      null|  null|   Carminda Pestana|\n",
      "|    2|2020-09-11|     2|    Deolinda Vilela|\n",
      "|    1|2020-09-12|     2|    Deolinda Vilela|\n",
      "| null|      null|  null|   Emídio Dornelles|\n",
      "|    3|2020-10-05|     4|Felisbela Dornelles|\n",
      "|    6|2020-01-09|     5|     Graça Ornellas|\n",
      "|    5|2020-12-06|     5|     Graça Ornellas|\n",
      "|    4|2020-10-02|     5|     Graça Ornellas|\n",
      "| null|      null|  null|   Matilde Rebouças|\n",
      "| null|      null|  null|    Noêmia   Orriça|\n",
      "| null|      null|  null|      Roque Vásquez|\n",
      "|    7|2020-01-05|     9|      Uriel Queiroz|\n",
      "| null|      null|  null|   Viviana Sequeira|\n",
      "+-----+----------+------+-------------------+\n",
      "\n"
     ]
    }
   ],
   "source": [
    "spark.sql('select rec.*, desp.nome from despachantes as desp left join reclamacoes as rec on desp.id = rec.iddesp').show()"
   ]
  },
  {
   "cell_type": "code",
   "execution_count": 31,
   "id": "5527cf5c-72f9-4585-9a38-622fe2d8de9c",
   "metadata": {},
   "outputs": [
    {
     "name": "stdout",
     "output_type": "stream",
     "text": [
      "+-----+----------+------+-------------------+\n",
      "|idrec|   datarec|iddesp|               nome|\n",
      "+-----+----------+------+-------------------+\n",
      "| null|      null|  null|   Carminda Pestana|\n",
      "|    2|2020-09-11|     2|    Deolinda Vilela|\n",
      "|    1|2020-09-12|     2|    Deolinda Vilela|\n",
      "| null|      null|  null|   Emídio Dornelles|\n",
      "|    3|2020-10-05|     4|Felisbela Dornelles|\n",
      "|    6|2020-01-09|     5|     Graça Ornellas|\n",
      "|    5|2020-12-06|     5|     Graça Ornellas|\n",
      "|    4|2020-10-02|     5|     Graça Ornellas|\n",
      "| null|      null|  null|   Matilde Rebouças|\n",
      "| null|      null|  null|    Noêmia   Orriça|\n",
      "| null|      null|  null|      Roque Vásquez|\n",
      "|    7|2020-01-05|     9|      Uriel Queiroz|\n",
      "| null|      null|  null|   Viviana Sequeira|\n",
      "+-----+----------+------+-------------------+\n",
      "\n"
     ]
    }
   ],
   "source": [
    "# join com a API do pyspark\n",
    "despachantes.join(reclamacoes, despachantes.id == reclamacoes.iddesp, how = 'left') \\\n",
    "            .select('idrec', 'datarec', 'iddesp', 'nome').show()"
   ]
  },
  {
   "cell_type": "markdown",
   "id": "ac157724-b8ba-457a-995c-8a69d346d50d",
   "metadata": {},
   "source": [
    "## Faça você mesmo - Dados de Varejo"
   ]
  },
  {
   "cell_type": "code",
   "execution_count": 32,
   "id": "89ad7505-79dd-4506-9cf2-8745003345d1",
   "metadata": {},
   "outputs": [],
   "source": [
    "# ler tabelas de varejo\n",
    "clientes = spark.read.parquet('../data/Atividades/Clientes.parquet')\n",
    "itens_vendas = spark.read.parquet('../data/Atividades/ItensVendas.parquet')\n",
    "produtos = spark.read.parquet('../data/Atividades/Produtos.parquet')\n",
    "vendas = spark.read.parquet('../data/Atividades/Vendas.parquet')\n",
    "vendedores = spark.read.parquet('../data/Atividades/Vendedores.parquet')"
   ]
  },
  {
   "cell_type": "markdown",
   "id": "bb6686da-e536-4e1c-b31c-f06a011e783b",
   "metadata": {},
   "source": [
    "### 1. Crie um banco de dados no DW do Spark chamado VendasVarejo, e persista todas as tabelas neste banco de dados"
   ]
  },
  {
   "cell_type": "code",
   "execution_count": 33,
   "id": "8a813395-abd9-4acb-8ac4-734552f00bf6",
   "metadata": {},
   "outputs": [
    {
     "data": {
      "text/plain": [
       "DataFrame[]"
      ]
     },
     "execution_count": 33,
     "metadata": {},
     "output_type": "execute_result"
    }
   ],
   "source": [
    "# criar database\n",
    "spark.sql('CREATE DATABASE VendasVarejo')"
   ]
  },
  {
   "cell_type": "code",
   "execution_count": null,
   "id": "8ff836fc-da74-4476-b698-12f8e41c7c2d",
   "metadata": {},
   "outputs": [],
   "source": [
    "dirpath = \"spark-warehouse\"\n",
    "if os.path.exists(dirpath) and os.path.isdir(dirpath):\n",
    "    shutil.rmtree(dirpath)"
   ]
  },
  {
   "cell_type": "code",
   "execution_count": 34,
   "id": "d722dcd7-548e-42d5-844e-8ae812b947fe",
   "metadata": {},
   "outputs": [
    {
     "data": {
      "text/plain": [
       "DataFrame[]"
      ]
     },
     "execution_count": 34,
     "metadata": {},
     "output_type": "execute_result"
    }
   ],
   "source": [
    "# utilizar database\n",
    "spark.sql('USE VendasVarejo')"
   ]
  },
  {
   "cell_type": "code",
   "execution_count": 35,
   "id": "2d964e13-87a7-4403-97fd-62d3cc60e86c",
   "metadata": {},
   "outputs": [],
   "source": [
    "# inserir os dados carregados no database\n",
    "clientes.write.saveAsTable('clientes')\n",
    "itens_vendas.write.saveAsTable('itens_vendas')\n",
    "produtos.write.saveAsTable('produtos')\n",
    "vendas.write.saveAsTable('vendas')\n",
    "vendedores.write.saveAsTable('vendedores')"
   ]
  },
  {
   "cell_type": "code",
   "execution_count": 37,
   "id": "e43dc1df-761d-4882-a6c4-007b20e51598",
   "metadata": {},
   "outputs": [
    {
     "name": "stdout",
     "output_type": "stream",
     "text": [
      "+------------+------------------+-----------+\n",
      "|   namespace|         tableName|isTemporary|\n",
      "+------------+------------------+-----------+\n",
      "|vendasvarejo|          clientes|      false|\n",
      "|vendasvarejo|      itens_vendas|      false|\n",
      "|vendasvarejo|          produtos|      false|\n",
      "|vendasvarejo|            vendas|      false|\n",
      "|vendasvarejo|        vendedores|      false|\n",
      "|            |         desp_view|       true|\n",
      "|            |despachantes_view1|       true|\n",
      "+------------+------------------+-----------+\n",
      "\n"
     ]
    }
   ],
   "source": [
    "# checar tabelas\n",
    "spark.sql('SHOW TABLES').show()"
   ]
  },
  {
   "cell_type": "code",
   "execution_count": 56,
   "id": "cf41cf4b-f41b-4548-93c4-f6df7704fe3b",
   "metadata": {},
   "outputs": [
    {
     "name": "stdout",
     "output_type": "stream",
     "text": [
      "+---------+--------+----------+-------------+----------+--------+----------------+\n",
      "|ProdutoID|VendasID|Quantidade|ValorUnitario|ValorTotal|Desconto|TotalComDesconto|\n",
      "+---------+--------+----------+-------------+----------+--------+----------------+\n",
      "|        2|     400|         2|       9201.0|   18402.0| 6256,68|        12145.32|\n",
      "|        2|     385|         2|       9201.0|   18402.0| 5704,62|        12697.38|\n",
      "|        4|     395|         2|       6892.2|   13784.4| 5100,23|         8684.17|\n",
      "|        4|     367|         2|       6509.3|   13018.6| 4816,88|         8201.72|\n",
      "|        2|     380|         2|      7038.77|  14077.54| 4364,04|          9713.5|\n",
      "|        2|     346|         2|       8280.9|   16561.8| 4140,45|        12421.35|\n",
      "|        2|     339|         2|       8280.9|   16561.8| 3312,36|        13249.44|\n",
      "|        2|     397|         1|       9201.0|    9201.0| 3312,36|         5888.64|\n",
      "|        1|     346|         2|       7966.8|   15933.6| 3186,72|        12746.88|\n",
      "|        2|     264|         2|       8280.9|   16561.8| 3146,74|        13415.06|\n",
      "|        4|     355|         2|      5858.37|  11716.74| 3046,35|         8670.39|\n",
      "|        2|     376|         1|       8280.9|    8280.9| 2981,12|         5299.78|\n",
      "|        2|     374|         1|       9201.0|    9201.0| 2944,32|         6256.68|\n",
      "|        1|     397|         1|       7524.2|    7524.2| 2859,20|          4665.0|\n",
      "|        2|     303|         2|       8280.9|   16561.8| 2815,51|        13746.29|\n",
      "|        4|     358|         2|       6509.3|   13018.6| 2733,91|        10284.69|\n",
      "|        4|     374|         1|       7658.0|    7658.0| 2527,14|         5130.86|\n",
      "|        3|     336|         2|       4255.0|    8510.0| 2467,90|          6042.1|\n",
      "|        1|     399|         1|      6771.78|   6771.78| 2437,84|         4333.94|\n",
      "|        1|     292|         2|      6771.78|  13543.56| 2437,84|        11105.72|\n",
      "+---------+--------+----------+-------------+----------+--------+----------------+\n",
      "only showing top 20 rows\n",
      "\n"
     ]
    }
   ],
   "source": [
    "# checar dados em uma tabela\n",
    "spark.sql('SELECT * FROM itens_vendas').show()"
   ]
  },
  {
   "cell_type": "markdown",
   "id": "a295f1fa-c445-4d57-a299-e2d30ed9c50c",
   "metadata": {},
   "source": [
    "### 2. Crie uma consulta que mostre de cada item vendido: Nome do Cliente, Data da Venda, Produto, Vendedor e Valor Total do item"
   ]
  },
  {
   "cell_type": "code",
   "execution_count": 61,
   "id": "fb68b861-ee62-4c56-b23b-29f5d9031329",
   "metadata": {},
   "outputs": [
    {
     "name": "stdout",
     "output_type": "stream",
     "text": [
      "+-----------------+--------+--------------------+----------------+----------+\n",
      "|          Cliente|    Data|             Produto|        Vendedor|ValorTotal|\n",
      "+-----------------+--------+--------------------+----------------+----------+\n",
      "|   Cosme Zambujal|1/1/2019|Bicicleta Altools...|    Armando Lago|   7820.85|\n",
      "|   Cosme Zambujal|1/1/2019|Bermuda Predactor...|    Armando Lago|     97.75|\n",
      "|   Cosme Zambujal|1/1/2019|Camiseta Predacto...|    Armando Lago|     135.0|\n",
      "|Gertrudes Hidalgo|1/1/2020|Luva De Ciclismo ...|   Iberê Lacerda|     150.4|\n",
      "| Antão Corte-Real|2/1/2020|Capacete Gometws ...|Jéssica Castelão|     155.0|\n",
      "| Antão Corte-Real|2/1/2020|Bicicleta Gometws...|Jéssica Castelão|    5932.0|\n",
      "| Antão Corte-Real|2/1/2019|Bicicleta Altools...|  Hélio Liberato|   7820.85|\n",
      "| Antão Corte-Real|2/1/2019|Bermuda Predactor...|  Hélio Liberato|     97.75|\n",
      "| Antão Corte-Real|2/1/2019|Bicicleta Gometws...|  Hélio Liberato|    5910.0|\n",
      "| Antão Corte-Real|3/1/2018|Bicicleta Gometws...|  Hélio Liberato|    2955.0|\n",
      "| Antão Corte-Real|3/1/2018|Bicicleta Trinc C...|  Hélio Liberato|    7658.0|\n",
      "| Antão Corte-Real|3/1/2018|Bicicleta Aro 29 ...|  Hélio Liberato|    8852.0|\n",
      "| Antão Corte-Real|3/1/2018|Camiseta Predacto...|  Hélio Liberato|     121.5|\n",
      "| Antão Corte-Real|3/1/2018|Bicicleta Gts Adv...|  Hélio Liberato|   6510.16|\n",
      "| Antão Corte-Real|4/1/2020|Bicicleta Altools...|  Hélio Liberato|   18402.0|\n",
      "| Antão Corte-Real|6/1/2019|Bicicleta Aro 29 ...|  Hélio Liberato|    7524.2|\n",
      "|Gertrudes Infante|6/1/2019|Luva De Ciclismo ...|  Hélio Liberato|     376.0|\n",
      "|Gertrudes Infante|6/1/2019|Bicicleta Gts Adv...|  Hélio Liberato|   3616.75|\n",
      "|Gertrudes Infante|6/1/2019|Camiseta Predacto...|  Hélio Liberato|     108.0|\n",
      "|Gertrudes Infante|6/1/2019|Bermuda Predactor...|  Hélio Liberato|     115.0|\n",
      "+-----------------+--------+--------------------+----------------+----------+\n",
      "only showing top 20 rows\n",
      "\n"
     ]
    }
   ],
   "source": [
    "query = \"\"\"\n",
    "SELECT\n",
    "    c.Cliente\n",
    "    , v.Data\n",
    "    , p.Produto\n",
    "    , vd.Vendedor\n",
    "    , iv.ValorTotal\n",
    "FROM itens_vendas AS iv\n",
    "INNER JOIN vendas AS v\n",
    "    ON iv.VendasID = v.VendasID\n",
    "INNER JOIN produtos AS p\n",
    "    ON iv.ProdutoID = p.ProdutoID\n",
    "INNER JOIN clientes AS c\n",
    "    ON v.ClienteID = c.ClienteID\n",
    "INNER JOIN vendedores AS vd\n",
    "    ON v.VendedorID = vd.VendedorID\n",
    "\"\"\"\n",
    "spark.sql(query).show()"
   ]
  },
  {
   "cell_type": "code",
   "execution_count": null,
   "id": "e1631aae-8fa2-4488-8ac6-9f03b2a53540",
   "metadata": {},
   "outputs": [],
   "source": []
  }
 ],
 "metadata": {
  "kernelspec": {
   "display_name": "Python 3 (ipykernel)",
   "language": "python",
   "name": "python3"
  },
  "language_info": {
   "codemirror_mode": {
    "name": "ipython",
    "version": 3
   },
   "file_extension": ".py",
   "mimetype": "text/x-python",
   "name": "python",
   "nbconvert_exporter": "python",
   "pygments_lexer": "ipython3",
   "version": "3.10.10"
  }
 },
 "nbformat": 4,
 "nbformat_minor": 5
}
